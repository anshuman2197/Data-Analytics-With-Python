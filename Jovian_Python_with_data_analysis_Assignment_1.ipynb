{
  "nbformat": 4,
  "nbformat_minor": 0,
  "metadata": {
    "colab": {
      "name": "Jovian Python with data analysis Assignment 1.ipynb",
      "provenance": []
    },
    "kernelspec": {
      "name": "python3",
      "display_name": "Python 3"
    },
    "language_info": {
      "name": "python"
    }
  },
  "cells": [
    {
      "cell_type": "markdown",
      "metadata": {
        "id": "Lrd-wrjJ-oAa"
      },
      "source": [
        "## Problem 1 - Variables and Data Types"
      ]
    },
    {
      "cell_type": "code",
      "metadata": {
        "id": "bdU7ZI3_A8qF"
      },
      "source": [
        "# Q1: Assign your name to the variable name."
      ],
      "execution_count": null,
      "outputs": []
    },
    {
      "cell_type": "code",
      "metadata": {
        "id": "Uq9EfbQWBWkC"
      },
      "source": [
        "name='Anshuman'"
      ],
      "execution_count": null,
      "outputs": []
    },
    {
      "cell_type": "code",
      "metadata": {
        "id": "HK74hBrhi7uu"
      },
      "source": [
        "#Q2: Assign your age (real or fake) to the variable age.\n",
        "\n",
        "age = 23"
      ],
      "execution_count": null,
      "outputs": []
    },
    {
      "cell_type": "code",
      "metadata": {
        "id": "W45iojLX_zLI"
      },
      "source": [
        "#Q3: Assign a boolean value to the variable has_android_phone.\n",
        "\n",
        "has_android_phone = \"Yes\""
      ],
      "execution_count": null,
      "outputs": []
    },
    {
      "cell_type": "code",
      "metadata": {
        "colab": {
          "base_uri": "https://localhost:8080/"
        },
        "id": "jcDlvhxk_6Q3",
        "outputId": "1c43259f-332c-4b1c-baec-416773d314a3"
      },
      "source": [
        "#You can check the values of these variables by running the next cell.\n",
        "\n",
        "name, age, has_android_phone"
      ],
      "execution_count": null,
      "outputs": [
        {
          "output_type": "execute_result",
          "data": {
            "text/plain": [
              "('anshuman', 23, 'Yes')"
            ]
          },
          "metadata": {
            "tags": []
          },
          "execution_count": 6
        }
      ]
    },
    {
      "cell_type": "code",
      "metadata": {
        "id": "_eRWiX8qACbo"
      },
      "source": [
        "#Q4: Create a dictionary person with keys \"Name\", \"Age\", \"HasAndroidPhone\" and values using the variables defined above.\n",
        "\n",
        "person = {'Name':'Anshuman',\n",
        "          'Age':23,\n",
        "          'HasAndroidPhone':\"yes\"}"
      ],
      "execution_count": null,
      "outputs": []
    },
    {
      "cell_type": "code",
      "metadata": {
        "colab": {
          "base_uri": "https://localhost:8080/"
        },
        "id": "qrErKTxmAREV",
        "outputId": "374f455c-b4fd-46ef-deda-9476865d0b4b"
      },
      "source": [
        "#Let's use the person dictionary to print a nice message.\n",
        "\n",
        "print(\"{} is aged {}, and owns an {}.\".format(\n",
        "    person[\"Name\"], \n",
        "    person[\"Age\"], \n",
        "    \"Android phone\" if person[\"HasAndroidPhone\"] else \"iPhone\"\n",
        "))"
      ],
      "execution_count": null,
      "outputs": [
        {
          "output_type": "stream",
          "text": [
            "Anshuman is aged 23, and owns an Android phone.\n"
          ],
          "name": "stdout"
        }
      ]
    },
    {
      "cell_type": "code",
      "metadata": {
        "colab": {
          "base_uri": "https://localhost:8080/"
        },
        "id": "K43oYIQ_AUFF",
        "outputId": "40ba5440-1f14-4435-aa8a-102a54bb6421"
      },
      "source": [
        "#Q4b (Optional): Use a for loop to display the type of each value stored against each key in person.\n",
        "\n",
        "#Here's the expected output for the key \"Name\":\n",
        "\n",
        "#The key \"Name\" has the value \"Derek\" of the type \"<class 'str'>\"\n",
        "# this is optional\n",
        "\n",
        "person = {'Name':'Anshuman',\n",
        "          'Age':23,\n",
        "          'HasAndroidPhone':\"yes\"}\n",
        "\n",
        "for i in person:\n",
        "  print(i,person[i],type(person[i]))\n"
      ],
      "execution_count": null,
      "outputs": [
        {
          "output_type": "stream",
          "text": [
            "Name Anshuman <class 'str'>\n",
            "Age 23 <class 'int'>\n",
            "HasAndroidPhone yes <class 'str'>\n"
          ],
          "name": "stdout"
        }
      ]
    },
    {
      "cell_type": "markdown",
      "metadata": {
        "id": "Wkbgdxw0CB6y"
      },
      "source": [
        "# Problem 2 - Working with Lists\n",
        "Q5: Create a list containing the following 3 elements:\n",
        "\n",
        "your favorite color\n",
        "the number of pets you have\n",
        " a boolean value describing whether you have previous programming experience"
      ]
    },
    {
      "cell_type": "code",
      "metadata": {
        "id": "2s0vfd7dA4MD"
      },
      "source": [
        "my_list = ['Black',2,'Yes']"
      ],
      "execution_count": null,
      "outputs": []
    },
    {
      "cell_type": "code",
      "metadata": {
        "colab": {
          "base_uri": "https://localhost:8080/"
        },
        "id": "3wUckbGsCSmL",
        "outputId": "35c25992-2a5a-4184-c2d4-6d2cf14dae3e"
      },
      "source": [
        "#Let's see what the list looks like:\n",
        "\n",
        "my_list"
      ],
      "execution_count": null,
      "outputs": [
        {
          "output_type": "execute_result",
          "data": {
            "text/plain": [
              "['Black', 2, 'Yes']"
            ]
          },
          "metadata": {
            "tags": []
          },
          "execution_count": 26
        }
      ]
    },
    {
      "cell_type": "code",
      "metadata": {
        "colab": {
          "base_uri": "https://localhost:8080/"
        },
        "id": "z1LXPwE9CVGO",
        "outputId": "d639af8d-1e09-4953-eae6-4a1be7bfb7a4"
      },
      "source": [
        "#Q6: Complete the following print and if statements by accessing the appropriate elements from my_list.\n",
        "\n",
        "#Hint: Use the list indexing notation [].\n",
        "\n",
        "print('My favorite color is', my_list[0])"
      ],
      "execution_count": null,
      "outputs": [
        {
          "output_type": "stream",
          "text": [
            "My favorite color is Black\n"
          ],
          "name": "stdout"
        }
      ]
    },
    {
      "cell_type": "code",
      "metadata": {
        "colab": {
          "base_uri": "https://localhost:8080/"
        },
        "id": "plVE3yuqCott",
        "outputId": "0f8d75b4-f830-47b2-f6f6-e457830eb570"
      },
      "source": [
        "print('I have {} pet(s).'.format(my_list[1]))"
      ],
      "execution_count": null,
      "outputs": [
        {
          "output_type": "stream",
          "text": [
            "I have 2 pet(s).\n"
          ],
          "name": "stdout"
        }
      ]
    },
    {
      "cell_type": "code",
      "metadata": {
        "colab": {
          "base_uri": "https://localhost:8080/"
        },
        "id": "V9KUUWVYC0jM",
        "outputId": "ccfce332-28d8-4d30-f1ab-8e5998dee161"
      },
      "source": [
        "if my_list[2]==\"Yes\":\n",
        "    print(\"I have previous programming experience\")\n",
        "else:\n",
        "    print(\"I do not have previous programming experience\")"
      ],
      "execution_count": null,
      "outputs": [
        {
          "output_type": "stream",
          "text": [
            "I have previous programming experience\n"
          ],
          "name": "stdout"
        }
      ]
    },
    {
      "cell_type": "code",
      "metadata": {
        "id": "T_TwrSKvC92s"
      },
      "source": [
        "# Q7: Add your favorite single digit number to the end of the list using the appropriate list method.\n",
        "\n",
        "my_list.append(21)"
      ],
      "execution_count": null,
      "outputs": []
    },
    {
      "cell_type": "code",
      "metadata": {
        "colab": {
          "base_uri": "https://localhost:8080/"
        },
        "id": "2YkY5CwYDHJc",
        "outputId": "d729f964-5f18-4444-fa0b-7675c3f11b8a"
      },
      "source": [
        "#Let's see if the number shows up in the list.\n",
        "\n",
        "my_list"
      ],
      "execution_count": null,
      "outputs": [
        {
          "output_type": "execute_result",
          "data": {
            "text/plain": [
              "['Black', 2, 'Yes', 21]"
            ]
          },
          "metadata": {
            "tags": []
          },
          "execution_count": 33
        }
      ]
    },
    {
      "cell_type": "code",
      "metadata": {
        "colab": {
          "base_uri": "https://localhost:8080/",
          "height": 35
        },
        "id": "yeF4J86EDJ57",
        "outputId": "eec65f58-deca-4f95-df1e-895eb4ee849c"
      },
      "source": [
        "#Q8: Remove the first element of the list, using the appropriate list method.\n",
        "\n",
        "#Hint: Check out methods of list here: https://www.w3schools.com/python/python_ref_list.asp\n",
        "\n",
        "my_list.pop(0)"
      ],
      "execution_count": null,
      "outputs": [
        {
          "output_type": "execute_result",
          "data": {
            "application/vnd.google.colaboratory.intrinsic+json": {
              "type": "string"
            },
            "text/plain": [
              "'Black'"
            ]
          },
          "metadata": {
            "tags": []
          },
          "execution_count": 35
        }
      ]
    },
    {
      "cell_type": "code",
      "metadata": {
        "colab": {
          "base_uri": "https://localhost:8080/"
        },
        "id": "rnp6tH0SDY-L",
        "outputId": "b3f8aae8-d256-4707-8223-dc75419e03b6"
      },
      "source": [
        "my_list"
      ],
      "execution_count": null,
      "outputs": [
        {
          "output_type": "execute_result",
          "data": {
            "text/plain": [
              "[2, 'Yes', 21]"
            ]
          },
          "metadata": {
            "tags": []
          },
          "execution_count": 36
        }
      ]
    },
    {
      "cell_type": "code",
      "metadata": {
        "colab": {
          "base_uri": "https://localhost:8080/"
        },
        "id": "SQLzkIdeDfDa",
        "outputId": "b286b937-ee93-468c-f196-1df03c0583e8"
      },
      "source": [
        "#Q9: Complete the print statement below to display the number of elements in my_list.\n",
        "\n",
        "print(\"The list has {} elements.\".format(len(my_list)))"
      ],
      "execution_count": null,
      "outputs": [
        {
          "output_type": "stream",
          "text": [
            "The list has 3 elements.\n"
          ],
          "name": "stdout"
        }
      ]
    },
    {
      "cell_type": "markdown",
      "metadata": {
        "id": "R_sHx6DNDt19"
      },
      "source": [
        "## Problem 3 - Conditions and loops\n",
        "Q10: Calculate and display the sum of all the numbers divisible by 7 between 18 and 534 i.e. 21+28+35+...+525+532.\n",
        "\n",
        "Hint: One way to do this is to loop over a range using for and use an if statement inside it."
      ]
    },
    {
      "cell_type": "code",
      "metadata": {
        "colab": {
          "base_uri": "https://localhost:8080/"
        },
        "id": "9DyJsSS3DpYa",
        "outputId": "094cd0ad-108b-44ca-d342-9dafb408049b"
      },
      "source": [
        "# store the final answer in this variable\n",
        "sum_of_numbers = 0\n",
        "for i in range(18,534):\n",
        "  if (i%7==0):\n",
        "    sum_of_numbers+=i\n",
        "    print(sum_of_numbers,end=\",\")\n",
        "\n",
        "# perform the calculation here\n"
      ],
      "execution_count": null,
      "outputs": [
        {
          "output_type": "stream",
          "text": [
            "21,49,84,126,175,231,294,364,441,525,616,714,819,931,1050,1176,1309,1449,1596,1750,1911,2079,2254,2436,2625,2821,3024,3234,3451,3675,3906,4144,4389,4641,4900,5166,5439,5719,6006,6300,6601,6909,7224,7546,7875,8211,8554,8904,9261,9625,9996,10374,10759,11151,11550,11956,12369,12789,13216,13650,14091,14539,14994,15456,15925,16401,16884,17374,17871,18375,18886,19404,19929,20461,"
          ],
          "name": "stdout"
        }
      ]
    },
    {
      "cell_type": "code",
      "metadata": {
        "colab": {
          "base_uri": "https://localhost:8080/"
        },
        "id": "a1Gv5DRxEKlI",
        "outputId": "fe71a01f-9525-4cff-f7f6-760bd93e31a4"
      },
      "source": [
        "print('The sum of all the numbers divisible by 7 between 18 and 534 is', sum_of_numbers)\n"
      ],
      "execution_count": null,
      "outputs": [
        {
          "output_type": "stream",
          "text": [
            "The sum of all the numbers divisible by 7 between 18 and 534 is 20461\n"
          ],
          "name": "stdout"
        }
      ]
    },
    {
      "cell_type": "markdown",
      "metadata": {
        "id": "brhwCaQhF-yV"
      },
      "source": [
        "## Problem 4 - Flying to the Bahamas\n",
        "Q11: A travel company wants to fly a plane to the Bahamas. Flying the plane costs 5000 dollars. So far, 29 people have signed up for the trip. If the company charges 200 dollars per ticket, what is the profit made by the company?\n",
        "\n",
        "Fill in values or arithmetic expressions for the variables below."
      ]
    },
    {
      "cell_type": "code",
      "metadata": {
        "id": "uEhh_zIREWRY"
      },
      "source": [
        "cost_of_flying_plane = 5000"
      ],
      "execution_count": null,
      "outputs": []
    },
    {
      "cell_type": "code",
      "metadata": {
        "id": "B-YZTjIqGMC-"
      },
      "source": [
        "number_of_passengers = 29"
      ],
      "execution_count": null,
      "outputs": []
    },
    {
      "cell_type": "code",
      "metadata": {
        "id": "ypR6gQU7GN8B"
      },
      "source": [
        "price_of_ticket = 200"
      ],
      "execution_count": null,
      "outputs": []
    },
    {
      "cell_type": "code",
      "metadata": {
        "id": "esmyp44DGRNh"
      },
      "source": [
        "profit =  price_of_ticket* number_of_passengers-cost_of_flying_plane \n"
      ],
      "execution_count": null,
      "outputs": []
    },
    {
      "cell_type": "code",
      "metadata": {
        "colab": {
          "base_uri": "https://localhost:8080/"
        },
        "id": "4ZdZfCnLGjmg",
        "outputId": "ba92d84d-fb0f-4686-d4f5-7c99bbcb3ae7"
      },
      "source": [
        "print('The company makes of a profit of {} dollars'.format(profit))"
      ],
      "execution_count": null,
      "outputs": [
        {
          "output_type": "stream",
          "text": [
            "The company makes of a profit of 800 dollars\n"
          ],
          "name": "stdout"
        }
      ]
    },
    {
      "cell_type": "markdown",
      "metadata": {
        "id": "mAdZYOjgG_y6"
      },
      "source": [
        "Q11b (Optional): Out of the 29 people who took the flight, only 12 buy tickets to return from the Bahamas on the same plane. If the flying the plane back also costs 5000 dollars, and does the company make an overall profit or loss? The company charges the same fee of 200 dollars per ticket for the return flight.\n",
        "\n",
        "Use an if statement to display the result."
      ]
    },
    {
      "cell_type": "code",
      "metadata": {
        "id": "nW2aLICIGmww"
      },
      "source": [
        "# this is optional\n",
        "number_of_passengers = 12\n",
        "cost_of_flying_plane = 5000\n",
        "price_of_ticket = 200\n",
        "profit2 =  price_of_ticket* number_of_passengers-cost_of_flying_plane \n",
        "overall=profit + profit2"
      ],
      "execution_count": null,
      "outputs": []
    },
    {
      "cell_type": "code",
      "metadata": {
        "colab": {
          "base_uri": "https://localhost:8080/"
        },
        "id": "hCSLj1CPHSFK",
        "outputId": "08adedb7-d98b-4f9e-8cbf-bcccb5bb6fb9"
      },
      "source": [
        "# this is optional\n",
        "if overall>0:\n",
        "    print(\"The company makes an overall profit of {} dollars\".format(overall))\n",
        "else:\n",
        "    print(\"The company makes an overall loss of {} dollars\".format(overall))"
      ],
      "execution_count": null,
      "outputs": [
        {
          "output_type": "stream",
          "text": [
            "The company makes an overall loss of -5200 dollars\n"
          ],
          "name": "stdout"
        }
      ]
    },
    {
      "cell_type": "markdown",
      "metadata": {
        "id": "hq6FsMrcIZLA"
      },
      "source": [
        "## Problem 5 - Twitter Sentiment Analysis\n",
        "Are your ready to perform some Data Analysis with Python? In this problem, we'll analyze some fictional tweets and find out whether the overall sentiment of Twitter users is happy or sad. This is a simplified version of an important real world problem called sentiment analysis.\n",
        "\n",
        "# Before we begin, we need a list of tweets to analyze. We're picking a small number of tweets here, but the exact same analysis can also be done for thousands, or even millions of tweets. The collection of data that we perform analysis on is often called a dataset"
      ]
    },
    {
      "cell_type": "code",
      "metadata": {
        "id": "aTbRvpT7H-Jc"
      },
      "source": [
        "tweets = [\n",
        "    \"Wow, what a great day today!! #sunshine\",\n",
        "    \"I feel sad about the things going on around us. #covid19\",\n",
        "    \"I'm really excited to learn Python with @JovianML #zerotopandas\",\n",
        "    \"This is a really nice song. #linkinpark\",\n",
        "    \"The python programming language is useful for data science\",\n",
        "    \"Why do bad things happen to me?\",\n",
        "    \"Apple announces the release of the new iPhone 12. Fans are excited.\",\n",
        "    \"Spent my day with family!! #happy\",\n",
        "    \"Check out my blog post on common string operations in Python. #zerotopandas\",\n",
        "    \"Freecodecamp has great coding tutorials. #skillup\"\n",
        "]"
      ],
      "execution_count": null,
      "outputs": []
    },
    {
      "cell_type": "code",
      "metadata": {
        "id": "8CGxMhv3ImmZ"
      },
      "source": [
        "#Let's begin by answering a very simple but important question about our dataset.\n",
        "\n",
        "#Q12: How many tweets does the dataset contain?\n",
        "\n",
        "number_of_tweets = len(tweets)"
      ],
      "execution_count": 77,
      "outputs": []
    },
    {
      "cell_type": "code",
      "metadata": {
        "id": "VmJQxp2oIvdp"
      },
      "source": [
        "#Let's create two lists of words: happy_words and sad_words. We will use these to check if a tweet is happy or sad.\n",
        "\n",
        "happy_words = ['great', 'excited', 'happy', 'nice', 'wonderful', 'amazing', 'good', 'best']\n"
      ],
      "execution_count": 79,
      "outputs": []
    },
    {
      "cell_type": "code",
      "metadata": {
        "id": "7vFpYp-JWdlf"
      },
      "source": [
        "sad_words = ['sad', 'bad', 'tragic', 'unhappy', 'worst']"
      ],
      "execution_count": 80,
      "outputs": []
    },
    {
      "cell_type": "code",
      "metadata": {
        "id": "sziJ_BfLWkl-"
      },
      "source": [
        "#To identify whether a tweet is happy, we can simply check if contains any of the words from happy_words. Here's an example:\n",
        "\n",
        "sample_tweet = tweets[0]"
      ],
      "execution_count": 81,
      "outputs": []
    },
    {
      "cell_type": "code",
      "metadata": {
        "colab": {
          "base_uri": "https://localhost:8080/",
          "height": 35
        },
        "id": "qvQEQ_pTWop-",
        "outputId": "9d0b824b-1fdd-4394-9c5b-ee6ef24d1e82"
      },
      "source": [
        "sample_tweet"
      ],
      "execution_count": 82,
      "outputs": [
        {
          "output_type": "execute_result",
          "data": {
            "application/vnd.google.colaboratory.intrinsic+json": {
              "type": "string"
            },
            "text/plain": [
              "'Wow, what a great day today!! #sunshine'"
            ]
          },
          "metadata": {
            "tags": []
          },
          "execution_count": 82
        }
      ]
    },
    {
      "cell_type": "code",
      "metadata": {
        "id": "zUCoN7tjWsDe"
      },
      "source": [
        "is_tweet_happy = False\n",
        "\n",
        "# Get a word from happy_words\n",
        "for word in happy_words:\n",
        "    # Check if the tweet contains the word\n",
        "    if word in sample_tweet:\n",
        "        # Word found! Mark the tweet as happy\n",
        "        is_tweet_happy = True"
      ],
      "execution_count": 83,
      "outputs": []
    },
    {
      "cell_type": "code",
      "metadata": {
        "id": "nDVzQfpRWxs9"
      },
      "source": [
        "# Do you understand what we're doing above?\n",
        "\n",
        "# For each word in the list of happy words, we check if is a part of the selected tweet. If the word is indded a part of the tweet, we set the variable is_tweet_happy to True."
      ],
      "execution_count": 84,
      "outputs": []
    },
    {
      "cell_type": "code",
      "metadata": {
        "colab": {
          "base_uri": "https://localhost:8080/"
        },
        "id": "c93WlMrcW9Y9",
        "outputId": "3850a115-cd19-412b-8b50-c67e98aa31a8"
      },
      "source": [
        "is_tweet_happy"
      ],
      "execution_count": 85,
      "outputs": [
        {
          "output_type": "execute_result",
          "data": {
            "text/plain": [
              "True"
            ]
          },
          "metadata": {
            "tags": []
          },
          "execution_count": 85
        }
      ]
    },
    {
      "cell_type": "code",
      "metadata": {
        "id": "SdR8D_8aXA3d"
      },
      "source": [
        "# Q13: Determine the number of tweets in the dataset that can be classified as happy.\n",
        "\n",
        "# Hint: You'll need to use a loop inside another loop to do this. Use the code from the example shown above."
      ],
      "execution_count": 86,
      "outputs": []
    },
    {
      "cell_type": "code",
      "metadata": {
        "id": "aBWVa_XCXNKs"
      },
      "source": [
        "# store the final answer in this variable\n",
        "number_of_happy_tweets = 0\n",
        "\n",
        "# perform the calculations here\n",
        "for tweet in tweets:\n",
        "    for word in happy_words:\n",
        "        if word in tweet:\n",
        "            is_tweet_happy = True\n",
        "            number_of_happy_tweets += 1\n"
      ],
      "execution_count": 87,
      "outputs": []
    },
    {
      "cell_type": "code",
      "metadata": {
        "colab": {
          "base_uri": "https://localhost:8080/"
        },
        "id": "oq9dBzu2Xgub",
        "outputId": "972527d4-5d95-4fb4-9f07-3a3115ba300f"
      },
      "source": [
        "print(\"Number of happy tweets:\", number_of_happy_tweets)"
      ],
      "execution_count": 88,
      "outputs": [
        {
          "output_type": "stream",
          "text": [
            "Number of happy tweets: 6\n"
          ],
          "name": "stdout"
        }
      ]
    },
    {
      "cell_type": "code",
      "metadata": {
        "id": "vgnggAcdXjfL"
      },
      "source": [
        "# Q14: What fraction of the total number of tweets are happy?\n",
        "\n",
        "# For example, if 2 out of 10 tweets are happy, then the answer is 2/10 i.e. 0.2.\n",
        "\n",
        "happy_fraction = number_of_happy_tweets/number_of_tweets"
      ],
      "execution_count": 89,
      "outputs": []
    },
    {
      "cell_type": "code",
      "metadata": {
        "colab": {
          "base_uri": "https://localhost:8080/"
        },
        "id": "j-HUKzO0X7y6",
        "outputId": "c52547b6-23ee-4345-dc0e-10839bfaca26"
      },
      "source": [
        "print(\"The fraction of happy tweets is:\", happy_fraction)"
      ],
      "execution_count": 90,
      "outputs": [
        {
          "output_type": "stream",
          "text": [
            "The fraction of happy tweets is: 0.6\n"
          ],
          "name": "stdout"
        }
      ]
    },
    {
      "cell_type": "code",
      "metadata": {
        "id": "0sMArq-0X_m6"
      },
      "source": [
        "#To identify whether a tweet is sad, we can simply check if contains any of the words from sad_words.\n",
        "\n",
        "# Q15: Determine the number of tweets in the dataset that can be classified as sad.\n",
        "\n",
        "# store the final answer in this variable\n",
        "number_of_sad_tweets = 0\n",
        "\n",
        "# perform the calculations here\n",
        "is_tweet_sad = False\n",
        "for tweet in tweets:\n",
        "    for word in sad_words:\n",
        "        if word in tweet:\n",
        "            is_tweet_sad = True\n",
        "            number_of_sad_tweets += 1"
      ],
      "execution_count": 91,
      "outputs": []
    },
    {
      "cell_type": "code",
      "metadata": {
        "colab": {
          "base_uri": "https://localhost:8080/"
        },
        "id": "zuZ3WmhJYL7p",
        "outputId": "9de20177-7b55-444f-93da-47b009d4a7bd"
      },
      "source": [
        "print(\"Number of sad tweets:\", number_of_sad_tweets)"
      ],
      "execution_count": 92,
      "outputs": [
        {
          "output_type": "stream",
          "text": [
            "Number of sad tweets: 2\n"
          ],
          "name": "stdout"
        }
      ]
    },
    {
      "cell_type": "code",
      "metadata": {
        "id": "kc4UINZcYOpZ"
      },
      "source": [
        "# Q16: What fraction of the total number of tweets are sad?\n",
        "\n",
        "sad_fraction = number_of_sad_tweets/number_of_tweets"
      ],
      "execution_count": 93,
      "outputs": []
    },
    {
      "cell_type": "code",
      "metadata": {
        "colab": {
          "base_uri": "https://localhost:8080/"
        },
        "id": "kwRWl6a1Yauo",
        "outputId": "08e8cc92-20c1-4f14-f019-c21f6421c382"
      },
      "source": [
        "print(\"The fraction of sad tweets is:\", sad_fraction)"
      ],
      "execution_count": 94,
      "outputs": [
        {
          "output_type": "stream",
          "text": [
            "The fraction of sad tweets is: 0.2\n"
          ],
          "name": "stdout"
        }
      ]
    },
    {
      "cell_type": "code",
      "metadata": {
        "id": "nsZemFbnYdQZ"
      },
      "source": [
        "# Q16b (Optional): Calculate the sentiment score, which is defined as the difference betweek the fraction of happy tweets and the fraction of sad tweets.\n",
        "\n",
        "sentiment_score = happy_fraction-sad_fraction"
      ],
      "execution_count": 95,
      "outputs": []
    },
    {
      "cell_type": "code",
      "metadata": {
        "colab": {
          "base_uri": "https://localhost:8080/"
        },
        "id": "-HkPNuAzYspH",
        "outputId": "5baac455-54fb-4d62-b2d2-2f1829f3e00f"
      },
      "source": [
        "print(\"The sentiment score for the given tweets is\", sentiment_score)"
      ],
      "execution_count": 96,
      "outputs": [
        {
          "output_type": "stream",
          "text": [
            "The sentiment score for the given tweets is 0.39999999999999997\n"
          ],
          "name": "stdout"
        }
      ]
    },
    {
      "cell_type": "code",
      "metadata": {
        "colab": {
          "base_uri": "https://localhost:8080/"
        },
        "id": "bYHVUQMFYvhH",
        "outputId": "27e3fe11-2252-4b38-f614-c3e6909a4b17"
      },
      "source": [
        "# Q16c (Optional): Display whether the overall sentiment of the given dataset of tweets is happy or sad, using the sentiment score.\n",
        "\n",
        "if sentiment_score>0:\n",
        "    print(\"The overall sentiment is happy\")\n",
        "else:\n",
        "    print(\"The overall sentiment is sad\")"
      ],
      "execution_count": 98,
      "outputs": [
        {
          "output_type": "stream",
          "text": [
            "The overall sentiment is happy\n"
          ],
          "name": "stdout"
        }
      ]
    },
    {
      "cell_type": "code",
      "metadata": {
        "colab": {
          "base_uri": "https://localhost:8080/"
        },
        "id": "Q2ip8SnuY-Bm",
        "outputId": "4a9de525-dca4-4b52-ece4-9b214eec4833"
      },
      "source": [
        "#Q16d (Optional): What is the fraction of tweets that are neutral i.e. neither happy nor sad.\n",
        "\n",
        "# store the final answer in this variable\n",
        "number_of_neutral_tweets = 0\n",
        "\n",
        "# perform the calculation here\n",
        "number_of_neutral_tweets = number_of_tweets - number_of_happy_tweets - number_of_sad_tweets\n",
        "print(\"The number of neutral tweets is {}\".format(number_of_neutral_tweets))"
      ],
      "execution_count": 99,
      "outputs": [
        {
          "output_type": "stream",
          "text": [
            "The number of neutral tweets is 2\n"
          ],
          "name": "stdout"
        }
      ]
    },
    {
      "cell_type": "code",
      "metadata": {
        "id": "IGQTGbobZSm1"
      },
      "source": [
        ""
      ],
      "execution_count": null,
      "outputs": []
    }
  ]
}