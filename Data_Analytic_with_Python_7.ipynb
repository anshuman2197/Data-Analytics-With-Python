{
  "nbformat": 4,
  "nbformat_minor": 0,
  "metadata": {
    "colab": {
      "name": "Data  Analytic with Python 7.ipynb",
      "provenance": []
    },
    "kernelspec": {
      "name": "python3",
      "display_name": "Python 3"
    },
    "language_info": {
      "name": "python"
    }
  },
  "cells": [
    {
      "cell_type": "markdown",
      "metadata": {
        "id": "ctZ-E3rxjBwy"
      },
      "source": [
        "# London Housing Data"
      ]
    },
    {
      "cell_type": "code",
      "metadata": {
        "id": "TpwRz0-Li29c"
      },
      "source": [
        "import pandas as pd"
      ],
      "execution_count": 15,
      "outputs": []
    },
    {
      "cell_type": "code",
      "metadata": {
        "colab": {
          "base_uri": "https://localhost:8080/",
          "height": 419
        },
        "id": "3-u_f8KqjRxX",
        "outputId": "ae414b04-5380-4227-8703-1cdadaee19d6"
      },
      "source": [
        "data=pd.read_csv('/content/5. London Housing Data.csv')\n",
        "data"
      ],
      "execution_count": 16,
      "outputs": [
        {
          "output_type": "execute_result",
          "data": {
            "text/html": [
              "<div>\n",
              "<style scoped>\n",
              "    .dataframe tbody tr th:only-of-type {\n",
              "        vertical-align: middle;\n",
              "    }\n",
              "\n",
              "    .dataframe tbody tr th {\n",
              "        vertical-align: top;\n",
              "    }\n",
              "\n",
              "    .dataframe thead th {\n",
              "        text-align: right;\n",
              "    }\n",
              "</style>\n",
              "<table border=\"1\" class=\"dataframe\">\n",
              "  <thead>\n",
              "    <tr style=\"text-align: right;\">\n",
              "      <th></th>\n",
              "      <th>date</th>\n",
              "      <th>area</th>\n",
              "      <th>average_price</th>\n",
              "      <th>code</th>\n",
              "      <th>houses_sold</th>\n",
              "      <th>no_of_crimes</th>\n",
              "    </tr>\n",
              "  </thead>\n",
              "  <tbody>\n",
              "    <tr>\n",
              "      <th>0</th>\n",
              "      <td>1/1/1995</td>\n",
              "      <td>city of london</td>\n",
              "      <td>91449</td>\n",
              "      <td>E09000001</td>\n",
              "      <td>17.0</td>\n",
              "      <td>NaN</td>\n",
              "    </tr>\n",
              "    <tr>\n",
              "      <th>1</th>\n",
              "      <td>2/1/1995</td>\n",
              "      <td>city of london</td>\n",
              "      <td>82203</td>\n",
              "      <td>E09000001</td>\n",
              "      <td>7.0</td>\n",
              "      <td>NaN</td>\n",
              "    </tr>\n",
              "    <tr>\n",
              "      <th>2</th>\n",
              "      <td>3/1/1995</td>\n",
              "      <td>city of london</td>\n",
              "      <td>79121</td>\n",
              "      <td>E09000001</td>\n",
              "      <td>14.0</td>\n",
              "      <td>NaN</td>\n",
              "    </tr>\n",
              "    <tr>\n",
              "      <th>3</th>\n",
              "      <td>4/1/1995</td>\n",
              "      <td>city of london</td>\n",
              "      <td>77101</td>\n",
              "      <td>E09000001</td>\n",
              "      <td>7.0</td>\n",
              "      <td>NaN</td>\n",
              "    </tr>\n",
              "    <tr>\n",
              "      <th>4</th>\n",
              "      <td>5/1/1995</td>\n",
              "      <td>city of london</td>\n",
              "      <td>84409</td>\n",
              "      <td>E09000001</td>\n",
              "      <td>10.0</td>\n",
              "      <td>NaN</td>\n",
              "    </tr>\n",
              "    <tr>\n",
              "      <th>...</th>\n",
              "      <td>...</td>\n",
              "      <td>...</td>\n",
              "      <td>...</td>\n",
              "      <td>...</td>\n",
              "      <td>...</td>\n",
              "      <td>...</td>\n",
              "    </tr>\n",
              "    <tr>\n",
              "      <th>13544</th>\n",
              "      <td>9/1/2019</td>\n",
              "      <td>england</td>\n",
              "      <td>249942</td>\n",
              "      <td>E92000001</td>\n",
              "      <td>64605.0</td>\n",
              "      <td>NaN</td>\n",
              "    </tr>\n",
              "    <tr>\n",
              "      <th>13545</th>\n",
              "      <td>10/1/2019</td>\n",
              "      <td>england</td>\n",
              "      <td>249376</td>\n",
              "      <td>E92000001</td>\n",
              "      <td>68677.0</td>\n",
              "      <td>NaN</td>\n",
              "    </tr>\n",
              "    <tr>\n",
              "      <th>13546</th>\n",
              "      <td>11/1/2019</td>\n",
              "      <td>england</td>\n",
              "      <td>248515</td>\n",
              "      <td>E92000001</td>\n",
              "      <td>67814.0</td>\n",
              "      <td>NaN</td>\n",
              "    </tr>\n",
              "    <tr>\n",
              "      <th>13547</th>\n",
              "      <td>12/1/2019</td>\n",
              "      <td>england</td>\n",
              "      <td>250410</td>\n",
              "      <td>E92000001</td>\n",
              "      <td>NaN</td>\n",
              "      <td>NaN</td>\n",
              "    </tr>\n",
              "    <tr>\n",
              "      <th>13548</th>\n",
              "      <td>1/1/2020</td>\n",
              "      <td>england</td>\n",
              "      <td>247355</td>\n",
              "      <td>E92000001</td>\n",
              "      <td>NaN</td>\n",
              "      <td>NaN</td>\n",
              "    </tr>\n",
              "  </tbody>\n",
              "</table>\n",
              "<p>13549 rows × 6 columns</p>\n",
              "</div>"
            ],
            "text/plain": [
              "            date            area  ...  houses_sold no_of_crimes\n",
              "0       1/1/1995  city of london  ...         17.0          NaN\n",
              "1       2/1/1995  city of london  ...          7.0          NaN\n",
              "2       3/1/1995  city of london  ...         14.0          NaN\n",
              "3       4/1/1995  city of london  ...          7.0          NaN\n",
              "4       5/1/1995  city of london  ...         10.0          NaN\n",
              "...          ...             ...  ...          ...          ...\n",
              "13544   9/1/2019         england  ...      64605.0          NaN\n",
              "13545  10/1/2019         england  ...      68677.0          NaN\n",
              "13546  11/1/2019         england  ...      67814.0          NaN\n",
              "13547  12/1/2019         england  ...          NaN          NaN\n",
              "13548   1/1/2020         england  ...          NaN          NaN\n",
              "\n",
              "[13549 rows x 6 columns]"
            ]
          },
          "metadata": {
            "tags": []
          },
          "execution_count": 16
        }
      ]
    },
    {
      "cell_type": "code",
      "metadata": {
        "colab": {
          "base_uri": "https://localhost:8080/",
          "height": 204
        },
        "id": "0wHoPRx2jYA1",
        "outputId": "68fa22de-8ebb-4073-f8ff-290726a541bc"
      },
      "source": [
        "data.head()"
      ],
      "execution_count": 17,
      "outputs": [
        {
          "output_type": "execute_result",
          "data": {
            "text/html": [
              "<div>\n",
              "<style scoped>\n",
              "    .dataframe tbody tr th:only-of-type {\n",
              "        vertical-align: middle;\n",
              "    }\n",
              "\n",
              "    .dataframe tbody tr th {\n",
              "        vertical-align: top;\n",
              "    }\n",
              "\n",
              "    .dataframe thead th {\n",
              "        text-align: right;\n",
              "    }\n",
              "</style>\n",
              "<table border=\"1\" class=\"dataframe\">\n",
              "  <thead>\n",
              "    <tr style=\"text-align: right;\">\n",
              "      <th></th>\n",
              "      <th>date</th>\n",
              "      <th>area</th>\n",
              "      <th>average_price</th>\n",
              "      <th>code</th>\n",
              "      <th>houses_sold</th>\n",
              "      <th>no_of_crimes</th>\n",
              "    </tr>\n",
              "  </thead>\n",
              "  <tbody>\n",
              "    <tr>\n",
              "      <th>0</th>\n",
              "      <td>1/1/1995</td>\n",
              "      <td>city of london</td>\n",
              "      <td>91449</td>\n",
              "      <td>E09000001</td>\n",
              "      <td>17.0</td>\n",
              "      <td>NaN</td>\n",
              "    </tr>\n",
              "    <tr>\n",
              "      <th>1</th>\n",
              "      <td>2/1/1995</td>\n",
              "      <td>city of london</td>\n",
              "      <td>82203</td>\n",
              "      <td>E09000001</td>\n",
              "      <td>7.0</td>\n",
              "      <td>NaN</td>\n",
              "    </tr>\n",
              "    <tr>\n",
              "      <th>2</th>\n",
              "      <td>3/1/1995</td>\n",
              "      <td>city of london</td>\n",
              "      <td>79121</td>\n",
              "      <td>E09000001</td>\n",
              "      <td>14.0</td>\n",
              "      <td>NaN</td>\n",
              "    </tr>\n",
              "    <tr>\n",
              "      <th>3</th>\n",
              "      <td>4/1/1995</td>\n",
              "      <td>city of london</td>\n",
              "      <td>77101</td>\n",
              "      <td>E09000001</td>\n",
              "      <td>7.0</td>\n",
              "      <td>NaN</td>\n",
              "    </tr>\n",
              "    <tr>\n",
              "      <th>4</th>\n",
              "      <td>5/1/1995</td>\n",
              "      <td>city of london</td>\n",
              "      <td>84409</td>\n",
              "      <td>E09000001</td>\n",
              "      <td>10.0</td>\n",
              "      <td>NaN</td>\n",
              "    </tr>\n",
              "  </tbody>\n",
              "</table>\n",
              "</div>"
            ],
            "text/plain": [
              "       date            area  ...  houses_sold no_of_crimes\n",
              "0  1/1/1995  city of london  ...         17.0          NaN\n",
              "1  2/1/1995  city of london  ...          7.0          NaN\n",
              "2  3/1/1995  city of london  ...         14.0          NaN\n",
              "3  4/1/1995  city of london  ...          7.0          NaN\n",
              "4  5/1/1995  city of london  ...         10.0          NaN\n",
              "\n",
              "[5 rows x 6 columns]"
            ]
          },
          "metadata": {
            "tags": []
          },
          "execution_count": 17
        }
      ]
    },
    {
      "cell_type": "code",
      "metadata": {
        "colab": {
          "base_uri": "https://localhost:8080/"
        },
        "id": "8jwz7v81jZ9V",
        "outputId": "525eed27-5630-4e5e-d8f2-cff3663d0769"
      },
      "source": [
        "data.count()"
      ],
      "execution_count": 18,
      "outputs": [
        {
          "output_type": "execute_result",
          "data": {
            "text/plain": [
              "date             13549\n",
              "area             13549\n",
              "average_price    13549\n",
              "code             13549\n",
              "houses_sold      13455\n",
              "no_of_crimes      7439\n",
              "dtype: int64"
            ]
          },
          "metadata": {
            "tags": []
          },
          "execution_count": 18
        }
      ]
    },
    {
      "cell_type": "code",
      "metadata": {
        "colab": {
          "base_uri": "https://localhost:8080/"
        },
        "id": "lolBTCdjjn5o",
        "outputId": "fec2a872-a1ec-4726-b2a6-0d89725e1ee6"
      },
      "source": [
        "data.isnull().sum()"
      ],
      "execution_count": 19,
      "outputs": [
        {
          "output_type": "execute_result",
          "data": {
            "text/plain": [
              "date                0\n",
              "area                0\n",
              "average_price       0\n",
              "code                0\n",
              "houses_sold        94\n",
              "no_of_crimes     6110\n",
              "dtype: int64"
            ]
          },
          "metadata": {
            "tags": []
          },
          "execution_count": 19
        }
      ]
    },
    {
      "cell_type": "code",
      "metadata": {
        "id": "8iw5qFRVjsg0"
      },
      "source": [
        "import matplotlib.pyplot as plt\n",
        "import seaborn as sns"
      ],
      "execution_count": 20,
      "outputs": []
    },
    {
      "cell_type": "code",
      "metadata": {
        "colab": {
          "base_uri": "https://localhost:8080/",
          "height": 330
        },
        "id": "34_93UMFkKmU",
        "outputId": "31973cd0-890a-4da8-b174-b7f68101dedd"
      },
      "source": [
        "sns.heatmap(data.isnull())\n",
        "plt.show()"
      ],
      "execution_count": 21,
      "outputs": [
        {
          "output_type": "display_data",
          "data": {
            "image/png": "[encoded data removed]",
            "text/plain": [
              "<Figure size 432x288 with 2 Axes>"
            ]
          },
          "metadata": {
            "tags": [],
            "needs_background": "light"
          }
        }
      ]
    },
    {
      "cell_type": "markdown",
      "metadata": {
        "id": "1bt5-BHRkeQU"
      },
      "source": [
        "# Convert the DataType of 'Date' column to Date-time format"
      ]
    },
    {
      "cell_type": "code",
      "metadata": {
        "colab": {
          "base_uri": "https://localhost:8080/",
          "height": 204
        },
        "id": "oCLVHgjFkOKy",
        "outputId": "b820e3df-d47a-484f-bb17-1e6556f18f25"
      },
      "source": [
        "data.head()"
      ],
      "execution_count": 22,
      "outputs": [
        {
          "output_type": "execute_result",
          "data": {
            "text/html": [
              "<div>\n",
              "<style scoped>\n",
              "    .dataframe tbody tr th:only-of-type {\n",
              "        vertical-align: middle;\n",
              "    }\n",
              "\n",
              "    .dataframe tbody tr th {\n",
              "        vertical-align: top;\n",
              "    }\n",
              "\n",
              "    .dataframe thead th {\n",
              "        text-align: right;\n",
              "    }\n",
              "</style>\n",
              "<table border=\"1\" class=\"dataframe\">\n",
              "  <thead>\n",
              "    <tr style=\"text-align: right;\">\n",
              "      <th></th>\n",
              "      <th>date</th>\n",
              "      <th>area</th>\n",
              "      <th>average_price</th>\n",
              "      <th>code</th>\n",
              "      <th>houses_sold</th>\n",
              "      <th>no_of_crimes</th>\n",
              "    </tr>\n",
              "  </thead>\n",
              "  <tbody>\n",
              "    <tr>\n",
              "      <th>0</th>\n",
              "      <td>1/1/1995</td>\n",
              "      <td>city of london</td>\n",
              "      <td>91449</td>\n",
              "      <td>E09000001</td>\n",
              "      <td>17.0</td>\n",
              "      <td>NaN</td>\n",
              "    </tr>\n",
              "    <tr>\n",
              "      <th>1</th>\n",
              "      <td>2/1/1995</td>\n",
              "      <td>city of london</td>\n",
              "      <td>82203</td>\n",
              "      <td>E09000001</td>\n",
              "      <td>7.0</td>\n",
              "      <td>NaN</td>\n",
              "    </tr>\n",
              "    <tr>\n",
              "      <th>2</th>\n",
              "      <td>3/1/1995</td>\n",
              "      <td>city of london</td>\n",
              "      <td>79121</td>\n",
              "      <td>E09000001</td>\n",
              "      <td>14.0</td>\n",
              "      <td>NaN</td>\n",
              "    </tr>\n",
              "    <tr>\n",
              "      <th>3</th>\n",
              "      <td>4/1/1995</td>\n",
              "      <td>city of london</td>\n",
              "      <td>77101</td>\n",
              "      <td>E09000001</td>\n",
              "      <td>7.0</td>\n",
              "      <td>NaN</td>\n",
              "    </tr>\n",
              "    <tr>\n",
              "      <th>4</th>\n",
              "      <td>5/1/1995</td>\n",
              "      <td>city of london</td>\n",
              "      <td>84409</td>\n",
              "      <td>E09000001</td>\n",
              "      <td>10.0</td>\n",
              "      <td>NaN</td>\n",
              "    </tr>\n",
              "  </tbody>\n",
              "</table>\n",
              "</div>"
            ],
            "text/plain": [
              "       date            area  ...  houses_sold no_of_crimes\n",
              "0  1/1/1995  city of london  ...         17.0          NaN\n",
              "1  2/1/1995  city of london  ...          7.0          NaN\n",
              "2  3/1/1995  city of london  ...         14.0          NaN\n",
              "3  4/1/1995  city of london  ...          7.0          NaN\n",
              "4  5/1/1995  city of london  ...         10.0          NaN\n",
              "\n",
              "[5 rows x 6 columns]"
            ]
          },
          "metadata": {
            "tags": []
          },
          "execution_count": 22
        }
      ]
    },
    {
      "cell_type": "code",
      "metadata": {
        "colab": {
          "base_uri": "https://localhost:8080/"
        },
        "id": "SPvo0r7IkqHx",
        "outputId": "1217e2e2-ed62-4ba2-f4ae-40213c6bf05a"
      },
      "source": [
        "data.dtypes"
      ],
      "execution_count": 23,
      "outputs": [
        {
          "output_type": "execute_result",
          "data": {
            "text/plain": [
              "date              object\n",
              "area              object\n",
              "average_price      int64\n",
              "code              object\n",
              "houses_sold      float64\n",
              "no_of_crimes     float64\n",
              "dtype: object"
            ]
          },
          "metadata": {
            "tags": []
          },
          "execution_count": 23
        }
      ]
    },
    {
      "cell_type": "code",
      "metadata": {
        "id": "X0NrFUCSkvTQ"
      },
      "source": [
        "data.date=pd.to_datetime(data.date)"
      ],
      "execution_count": 24,
      "outputs": []
    },
    {
      "cell_type": "code",
      "metadata": {
        "id": "LO1VroTSk5AQ",
        "colab": {
          "base_uri": "https://localhost:8080/"
        },
        "outputId": "0608f234-92ee-4c07-eb6c-3959b04b6979"
      },
      "source": [
        "data.date"
      ],
      "execution_count": 25,
      "outputs": [
        {
          "output_type": "execute_result",
          "data": {
            "text/plain": [
              "0       1995-01-01\n",
              "1       1995-02-01\n",
              "2       1995-03-01\n",
              "3       1995-04-01\n",
              "4       1995-05-01\n",
              "           ...    \n",
              "13544   2019-09-01\n",
              "13545   2019-10-01\n",
              "13546   2019-11-01\n",
              "13547   2019-12-01\n",
              "13548   2020-01-01\n",
              "Name: date, Length: 13549, dtype: datetime64[ns]"
            ]
          },
          "metadata": {
            "tags": []
          },
          "execution_count": 25
        }
      ]
    },
    {
      "cell_type": "code",
      "metadata": {
        "id": "-tk_P7vSk6-g",
        "colab": {
          "base_uri": "https://localhost:8080/",
          "height": 204
        },
        "outputId": "bfd07513-5db6-4c9d-f4e9-cf18665b8a30"
      },
      "source": [
        "data.head()"
      ],
      "execution_count": 26,
      "outputs": [
        {
          "output_type": "execute_result",
          "data": {
            "text/html": [
              "<div>\n",
              "<style scoped>\n",
              "    .dataframe tbody tr th:only-of-type {\n",
              "        vertical-align: middle;\n",
              "    }\n",
              "\n",
              "    .dataframe tbody tr th {\n",
              "        vertical-align: top;\n",
              "    }\n",
              "\n",
              "    .dataframe thead th {\n",
              "        text-align: right;\n",
              "    }\n",
              "</style>\n",
              "<table border=\"1\" class=\"dataframe\">\n",
              "  <thead>\n",
              "    <tr style=\"text-align: right;\">\n",
              "      <th></th>\n",
              "      <th>date</th>\n",
              "      <th>area</th>\n",
              "      <th>average_price</th>\n",
              "      <th>code</th>\n",
              "      <th>houses_sold</th>\n",
              "      <th>no_of_crimes</th>\n",
              "    </tr>\n",
              "  </thead>\n",
              "  <tbody>\n",
              "    <tr>\n",
              "      <th>0</th>\n",
              "      <td>1995-01-01</td>\n",
              "      <td>city of london</td>\n",
              "      <td>91449</td>\n",
              "      <td>E09000001</td>\n",
              "      <td>17.0</td>\n",
              "      <td>NaN</td>\n",
              "    </tr>\n",
              "    <tr>\n",
              "      <th>1</th>\n",
              "      <td>1995-02-01</td>\n",
              "      <td>city of london</td>\n",
              "      <td>82203</td>\n",
              "      <td>E09000001</td>\n",
              "      <td>7.0</td>\n",
              "      <td>NaN</td>\n",
              "    </tr>\n",
              "    <tr>\n",
              "      <th>2</th>\n",
              "      <td>1995-03-01</td>\n",
              "      <td>city of london</td>\n",
              "      <td>79121</td>\n",
              "      <td>E09000001</td>\n",
              "      <td>14.0</td>\n",
              "      <td>NaN</td>\n",
              "    </tr>\n",
              "    <tr>\n",
              "      <th>3</th>\n",
              "      <td>1995-04-01</td>\n",
              "      <td>city of london</td>\n",
              "      <td>77101</td>\n",
              "      <td>E09000001</td>\n",
              "      <td>7.0</td>\n",
              "      <td>NaN</td>\n",
              "    </tr>\n",
              "    <tr>\n",
              "      <th>4</th>\n",
              "      <td>1995-05-01</td>\n",
              "      <td>city of london</td>\n",
              "      <td>84409</td>\n",
              "      <td>E09000001</td>\n",
              "      <td>10.0</td>\n",
              "      <td>NaN</td>\n",
              "    </tr>\n",
              "  </tbody>\n",
              "</table>\n",
              "</div>"
            ],
            "text/plain": [
              "        date            area  ...  houses_sold no_of_crimes\n",
              "0 1995-01-01  city of london  ...         17.0          NaN\n",
              "1 1995-02-01  city of london  ...          7.0          NaN\n",
              "2 1995-03-01  city of london  ...         14.0          NaN\n",
              "3 1995-04-01  city of london  ...          7.0          NaN\n",
              "4 1995-05-01  city of london  ...         10.0          NaN\n",
              "\n",
              "[5 rows x 6 columns]"
            ]
          },
          "metadata": {
            "tags": []
          },
          "execution_count": 26
        }
      ]
    },
    {
      "cell_type": "markdown",
      "metadata": {
        "id": "7jFYDyHlwDtB"
      },
      "source": [
        "# Add a Column 'Year' in the dataframe ,which contains years only"
      ]
    },
    {
      "cell_type": "code",
      "metadata": {
        "id": "97PjiI0rk9cg",
        "colab": {
          "base_uri": "https://localhost:8080/",
          "height": 204
        },
        "outputId": "1a4bc791-eac3-4cae-fca7-92dc79deebfb"
      },
      "source": [
        "data.head()"
      ],
      "execution_count": 27,
      "outputs": [
        {
          "output_type": "execute_result",
          "data": {
            "text/html": [
              "<div>\n",
              "<style scoped>\n",
              "    .dataframe tbody tr th:only-of-type {\n",
              "        vertical-align: middle;\n",
              "    }\n",
              "\n",
              "    .dataframe tbody tr th {\n",
              "        vertical-align: top;\n",
              "    }\n",
              "\n",
              "    .dataframe thead th {\n",
              "        text-align: right;\n",
              "    }\n",
              "</style>\n",
              "<table border=\"1\" class=\"dataframe\">\n",
              "  <thead>\n",
              "    <tr style=\"text-align: right;\">\n",
              "      <th></th>\n",
              "      <th>date</th>\n",
              "      <th>area</th>\n",
              "      <th>average_price</th>\n",
              "      <th>code</th>\n",
              "      <th>houses_sold</th>\n",
              "      <th>no_of_crimes</th>\n",
              "    </tr>\n",
              "  </thead>\n",
              "  <tbody>\n",
              "    <tr>\n",
              "      <th>0</th>\n",
              "      <td>1995-01-01</td>\n",
              "      <td>city of london</td>\n",
              "      <td>91449</td>\n",
              "      <td>E09000001</td>\n",
              "      <td>17.0</td>\n",
              "      <td>NaN</td>\n",
              "    </tr>\n",
              "    <tr>\n",
              "      <th>1</th>\n",
              "      <td>1995-02-01</td>\n",
              "      <td>city of london</td>\n",
              "      <td>82203</td>\n",
              "      <td>E09000001</td>\n",
              "      <td>7.0</td>\n",
              "      <td>NaN</td>\n",
              "    </tr>\n",
              "    <tr>\n",
              "      <th>2</th>\n",
              "      <td>1995-03-01</td>\n",
              "      <td>city of london</td>\n",
              "      <td>79121</td>\n",
              "      <td>E09000001</td>\n",
              "      <td>14.0</td>\n",
              "      <td>NaN</td>\n",
              "    </tr>\n",
              "    <tr>\n",
              "      <th>3</th>\n",
              "      <td>1995-04-01</td>\n",
              "      <td>city of london</td>\n",
              "      <td>77101</td>\n",
              "      <td>E09000001</td>\n",
              "      <td>7.0</td>\n",
              "      <td>NaN</td>\n",
              "    </tr>\n",
              "    <tr>\n",
              "      <th>4</th>\n",
              "      <td>1995-05-01</td>\n",
              "      <td>city of london</td>\n",
              "      <td>84409</td>\n",
              "      <td>E09000001</td>\n",
              "      <td>10.0</td>\n",
              "      <td>NaN</td>\n",
              "    </tr>\n",
              "  </tbody>\n",
              "</table>\n",
              "</div>"
            ],
            "text/plain": [
              "        date            area  ...  houses_sold no_of_crimes\n",
              "0 1995-01-01  city of london  ...         17.0          NaN\n",
              "1 1995-02-01  city of london  ...          7.0          NaN\n",
              "2 1995-03-01  city of london  ...         14.0          NaN\n",
              "3 1995-04-01  city of london  ...          7.0          NaN\n",
              "4 1995-05-01  city of london  ...         10.0          NaN\n",
              "\n",
              "[5 rows x 6 columns]"
            ]
          },
          "metadata": {
            "tags": []
          },
          "execution_count": 27
        }
      ]
    },
    {
      "cell_type": "code",
      "metadata": {
        "id": "stTlb8jQwSGX"
      },
      "source": [
        "data['year']=data.date.dt.year"
      ],
      "execution_count": 28,
      "outputs": []
    },
    {
      "cell_type": "code",
      "metadata": {
        "colab": {
          "base_uri": "https://localhost:8080/",
          "height": 204
        },
        "id": "wDX7pmqfwZjG",
        "outputId": "6078e501-f38d-4170-eeb0-b3d98a623b0f"
      },
      "source": [
        "data.head()"
      ],
      "execution_count": 29,
      "outputs": [
        {
          "output_type": "execute_result",
          "data": {
            "text/html": [
              "<div>\n",
              "<style scoped>\n",
              "    .dataframe tbody tr th:only-of-type {\n",
              "        vertical-align: middle;\n",
              "    }\n",
              "\n",
              "    .dataframe tbody tr th {\n",
              "        vertical-align: top;\n",
              "    }\n",
              "\n",
              "    .dataframe thead th {\n",
              "        text-align: right;\n",
              "    }\n",
              "</style>\n",
              "<table border=\"1\" class=\"dataframe\">\n",
              "  <thead>\n",
              "    <tr style=\"text-align: right;\">\n",
              "      <th></th>\n",
              "      <th>date</th>\n",
              "      <th>area</th>\n",
              "      <th>average_price</th>\n",
              "      <th>code</th>\n",
              "      <th>houses_sold</th>\n",
              "      <th>no_of_crimes</th>\n",
              "      <th>year</th>\n",
              "    </tr>\n",
              "  </thead>\n",
              "  <tbody>\n",
              "    <tr>\n",
              "      <th>0</th>\n",
              "      <td>1995-01-01</td>\n",
              "      <td>city of london</td>\n",
              "      <td>91449</td>\n",
              "      <td>E09000001</td>\n",
              "      <td>17.0</td>\n",
              "      <td>NaN</td>\n",
              "      <td>1995</td>\n",
              "    </tr>\n",
              "    <tr>\n",
              "      <th>1</th>\n",
              "      <td>1995-02-01</td>\n",
              "      <td>city of london</td>\n",
              "      <td>82203</td>\n",
              "      <td>E09000001</td>\n",
              "      <td>7.0</td>\n",
              "      <td>NaN</td>\n",
              "      <td>1995</td>\n",
              "    </tr>\n",
              "    <tr>\n",
              "      <th>2</th>\n",
              "      <td>1995-03-01</td>\n",
              "      <td>city of london</td>\n",
              "      <td>79121</td>\n",
              "      <td>E09000001</td>\n",
              "      <td>14.0</td>\n",
              "      <td>NaN</td>\n",
              "      <td>1995</td>\n",
              "    </tr>\n",
              "    <tr>\n",
              "      <th>3</th>\n",
              "      <td>1995-04-01</td>\n",
              "      <td>city of london</td>\n",
              "      <td>77101</td>\n",
              "      <td>E09000001</td>\n",
              "      <td>7.0</td>\n",
              "      <td>NaN</td>\n",
              "      <td>1995</td>\n",
              "    </tr>\n",
              "    <tr>\n",
              "      <th>4</th>\n",
              "      <td>1995-05-01</td>\n",
              "      <td>city of london</td>\n",
              "      <td>84409</td>\n",
              "      <td>E09000001</td>\n",
              "      <td>10.0</td>\n",
              "      <td>NaN</td>\n",
              "      <td>1995</td>\n",
              "    </tr>\n",
              "  </tbody>\n",
              "</table>\n",
              "</div>"
            ],
            "text/plain": [
              "        date            area  average_price  ... houses_sold  no_of_crimes  year\n",
              "0 1995-01-01  city of london          91449  ...        17.0           NaN  1995\n",
              "1 1995-02-01  city of london          82203  ...         7.0           NaN  1995\n",
              "2 1995-03-01  city of london          79121  ...        14.0           NaN  1995\n",
              "3 1995-04-01  city of london          77101  ...         7.0           NaN  1995\n",
              "4 1995-05-01  city of london          84409  ...        10.0           NaN  1995\n",
              "\n",
              "[5 rows x 7 columns]"
            ]
          },
          "metadata": {
            "tags": []
          },
          "execution_count": 29
        }
      ]
    },
    {
      "cell_type": "code",
      "metadata": {
        "id": "FmqfNswNwcAl"
      },
      "source": [
        "data['month']=data.date.dt.month"
      ],
      "execution_count": 30,
      "outputs": []
    },
    {
      "cell_type": "code",
      "metadata": {
        "colab": {
          "base_uri": "https://localhost:8080/",
          "height": 204
        },
        "id": "xvx6DCQzwp6k",
        "outputId": "fb724d62-dc0e-4ee7-92c3-a3343b64f93e"
      },
      "source": [
        "data.head()"
      ],
      "execution_count": 31,
      "outputs": [
        {
          "output_type": "execute_result",
          "data": {
            "text/html": [
              "<div>\n",
              "<style scoped>\n",
              "    .dataframe tbody tr th:only-of-type {\n",
              "        vertical-align: middle;\n",
              "    }\n",
              "\n",
              "    .dataframe tbody tr th {\n",
              "        vertical-align: top;\n",
              "    }\n",
              "\n",
              "    .dataframe thead th {\n",
              "        text-align: right;\n",
              "    }\n",
              "</style>\n",
              "<table border=\"1\" class=\"dataframe\">\n",
              "  <thead>\n",
              "    <tr style=\"text-align: right;\">\n",
              "      <th></th>\n",
              "      <th>date</th>\n",
              "      <th>area</th>\n",
              "      <th>average_price</th>\n",
              "      <th>code</th>\n",
              "      <th>houses_sold</th>\n",
              "      <th>no_of_crimes</th>\n",
              "      <th>year</th>\n",
              "      <th>month</th>\n",
              "    </tr>\n",
              "  </thead>\n",
              "  <tbody>\n",
              "    <tr>\n",
              "      <th>0</th>\n",
              "      <td>1995-01-01</td>\n",
              "      <td>city of london</td>\n",
              "      <td>91449</td>\n",
              "      <td>E09000001</td>\n",
              "      <td>17.0</td>\n",
              "      <td>NaN</td>\n",
              "      <td>1995</td>\n",
              "      <td>1</td>\n",
              "    </tr>\n",
              "    <tr>\n",
              "      <th>1</th>\n",
              "      <td>1995-02-01</td>\n",
              "      <td>city of london</td>\n",
              "      <td>82203</td>\n",
              "      <td>E09000001</td>\n",
              "      <td>7.0</td>\n",
              "      <td>NaN</td>\n",
              "      <td>1995</td>\n",
              "      <td>2</td>\n",
              "    </tr>\n",
              "    <tr>\n",
              "      <th>2</th>\n",
              "      <td>1995-03-01</td>\n",
              "      <td>city of london</td>\n",
              "      <td>79121</td>\n",
              "      <td>E09000001</td>\n",
              "      <td>14.0</td>\n",
              "      <td>NaN</td>\n",
              "      <td>1995</td>\n",
              "      <td>3</td>\n",
              "    </tr>\n",
              "    <tr>\n",
              "      <th>3</th>\n",
              "      <td>1995-04-01</td>\n",
              "      <td>city of london</td>\n",
              "      <td>77101</td>\n",
              "      <td>E09000001</td>\n",
              "      <td>7.0</td>\n",
              "      <td>NaN</td>\n",
              "      <td>1995</td>\n",
              "      <td>4</td>\n",
              "    </tr>\n",
              "    <tr>\n",
              "      <th>4</th>\n",
              "      <td>1995-05-01</td>\n",
              "      <td>city of london</td>\n",
              "      <td>84409</td>\n",
              "      <td>E09000001</td>\n",
              "      <td>10.0</td>\n",
              "      <td>NaN</td>\n",
              "      <td>1995</td>\n",
              "      <td>5</td>\n",
              "    </tr>\n",
              "  </tbody>\n",
              "</table>\n",
              "</div>"
            ],
            "text/plain": [
              "        date            area  average_price  ... no_of_crimes  year  month\n",
              "0 1995-01-01  city of london          91449  ...          NaN  1995      1\n",
              "1 1995-02-01  city of london          82203  ...          NaN  1995      2\n",
              "2 1995-03-01  city of london          79121  ...          NaN  1995      3\n",
              "3 1995-04-01  city of london          77101  ...          NaN  1995      4\n",
              "4 1995-05-01  city of london          84409  ...          NaN  1995      5\n",
              "\n",
              "[5 rows x 8 columns]"
            ]
          },
          "metadata": {
            "tags": []
          },
          "execution_count": 31
        }
      ]
    },
    {
      "cell_type": "markdown",
      "metadata": {
        "id": "DvfNKVKiwx9n"
      },
      "source": [
        "# Add a column 'month' as 2nd column in the dataframe, which contains month only"
      ]
    },
    {
      "cell_type": "code",
      "metadata": {
        "id": "B-hascuZwrsU"
      },
      "source": [
        "data.drop(columns=['month'],inplace=True)\n"
      ],
      "execution_count": 40,
      "outputs": []
    },
    {
      "cell_type": "code",
      "metadata": {
        "colab": {
          "base_uri": "https://localhost:8080/",
          "height": 204
        },
        "id": "bkLC0DYhxNmF",
        "outputId": "a8aac56d-8911-4c92-c1cc-a468d8c95e9b"
      },
      "source": [
        "data.head()"
      ],
      "execution_count": 41,
      "outputs": [
        {
          "output_type": "execute_result",
          "data": {
            "text/html": [
              "<div>\n",
              "<style scoped>\n",
              "    .dataframe tbody tr th:only-of-type {\n",
              "        vertical-align: middle;\n",
              "    }\n",
              "\n",
              "    .dataframe tbody tr th {\n",
              "        vertical-align: top;\n",
              "    }\n",
              "\n",
              "    .dataframe thead th {\n",
              "        text-align: right;\n",
              "    }\n",
              "</style>\n",
              "<table border=\"1\" class=\"dataframe\">\n",
              "  <thead>\n",
              "    <tr style=\"text-align: right;\">\n",
              "      <th></th>\n",
              "      <th>date</th>\n",
              "      <th>area</th>\n",
              "      <th>average_price</th>\n",
              "      <th>code</th>\n",
              "      <th>houses_sold</th>\n",
              "      <th>no_of_crimes</th>\n",
              "      <th>year</th>\n",
              "    </tr>\n",
              "  </thead>\n",
              "  <tbody>\n",
              "    <tr>\n",
              "      <th>0</th>\n",
              "      <td>1995-01-01</td>\n",
              "      <td>city of london</td>\n",
              "      <td>91449</td>\n",
              "      <td>E09000001</td>\n",
              "      <td>17.0</td>\n",
              "      <td>NaN</td>\n",
              "      <td>1995</td>\n",
              "    </tr>\n",
              "    <tr>\n",
              "      <th>1</th>\n",
              "      <td>1995-02-01</td>\n",
              "      <td>city of london</td>\n",
              "      <td>82203</td>\n",
              "      <td>E09000001</td>\n",
              "      <td>7.0</td>\n",
              "      <td>NaN</td>\n",
              "      <td>1995</td>\n",
              "    </tr>\n",
              "    <tr>\n",
              "      <th>2</th>\n",
              "      <td>1995-03-01</td>\n",
              "      <td>city of london</td>\n",
              "      <td>79121</td>\n",
              "      <td>E09000001</td>\n",
              "      <td>14.0</td>\n",
              "      <td>NaN</td>\n",
              "      <td>1995</td>\n",
              "    </tr>\n",
              "    <tr>\n",
              "      <th>3</th>\n",
              "      <td>1995-04-01</td>\n",
              "      <td>city of london</td>\n",
              "      <td>77101</td>\n",
              "      <td>E09000001</td>\n",
              "      <td>7.0</td>\n",
              "      <td>NaN</td>\n",
              "      <td>1995</td>\n",
              "    </tr>\n",
              "    <tr>\n",
              "      <th>4</th>\n",
              "      <td>1995-05-01</td>\n",
              "      <td>city of london</td>\n",
              "      <td>84409</td>\n",
              "      <td>E09000001</td>\n",
              "      <td>10.0</td>\n",
              "      <td>NaN</td>\n",
              "      <td>1995</td>\n",
              "    </tr>\n",
              "  </tbody>\n",
              "</table>\n",
              "</div>"
            ],
            "text/plain": [
              "        date            area  average_price  ... houses_sold  no_of_crimes  year\n",
              "0 1995-01-01  city of london          91449  ...        17.0           NaN  1995\n",
              "1 1995-02-01  city of london          82203  ...         7.0           NaN  1995\n",
              "2 1995-03-01  city of london          79121  ...        14.0           NaN  1995\n",
              "3 1995-04-01  city of london          77101  ...         7.0           NaN  1995\n",
              "4 1995-05-01  city of london          84409  ...        10.0           NaN  1995\n",
              "\n",
              "[5 rows x 7 columns]"
            ]
          },
          "metadata": {
            "tags": []
          },
          "execution_count": 41
        }
      ]
    },
    {
      "cell_type": "code",
      "metadata": {
        "id": "Pj6gjQOAx38y"
      },
      "source": [
        "data.insert(1,'month',data.date.dt.month)"
      ],
      "execution_count": 42,
      "outputs": []
    },
    {
      "cell_type": "code",
      "metadata": {
        "colab": {
          "base_uri": "https://localhost:8080/",
          "height": 204
        },
        "id": "beJIsubsyVuv",
        "outputId": "4911ed97-4231-4128-c11c-a3873d03e11e"
      },
      "source": [
        "data.head()"
      ],
      "execution_count": 44,
      "outputs": [
        {
          "output_type": "execute_result",
          "data": {
            "text/html": [
              "<div>\n",
              "<style scoped>\n",
              "    .dataframe tbody tr th:only-of-type {\n",
              "        vertical-align: middle;\n",
              "    }\n",
              "\n",
              "    .dataframe tbody tr th {\n",
              "        vertical-align: top;\n",
              "    }\n",
              "\n",
              "    .dataframe thead th {\n",
              "        text-align: right;\n",
              "    }\n",
              "</style>\n",
              "<table border=\"1\" class=\"dataframe\">\n",
              "  <thead>\n",
              "    <tr style=\"text-align: right;\">\n",
              "      <th></th>\n",
              "      <th>date</th>\n",
              "      <th>month</th>\n",
              "      <th>area</th>\n",
              "      <th>average_price</th>\n",
              "      <th>code</th>\n",
              "      <th>houses_sold</th>\n",
              "      <th>no_of_crimes</th>\n",
              "      <th>year</th>\n",
              "    </tr>\n",
              "  </thead>\n",
              "  <tbody>\n",
              "    <tr>\n",
              "      <th>0</th>\n",
              "      <td>1995-01-01</td>\n",
              "      <td>1</td>\n",
              "      <td>city of london</td>\n",
              "      <td>91449</td>\n",
              "      <td>E09000001</td>\n",
              "      <td>17.0</td>\n",
              "      <td>NaN</td>\n",
              "      <td>1995</td>\n",
              "    </tr>\n",
              "    <tr>\n",
              "      <th>1</th>\n",
              "      <td>1995-02-01</td>\n",
              "      <td>2</td>\n",
              "      <td>city of london</td>\n",
              "      <td>82203</td>\n",
              "      <td>E09000001</td>\n",
              "      <td>7.0</td>\n",
              "      <td>NaN</td>\n",
              "      <td>1995</td>\n",
              "    </tr>\n",
              "    <tr>\n",
              "      <th>2</th>\n",
              "      <td>1995-03-01</td>\n",
              "      <td>3</td>\n",
              "      <td>city of london</td>\n",
              "      <td>79121</td>\n",
              "      <td>E09000001</td>\n",
              "      <td>14.0</td>\n",
              "      <td>NaN</td>\n",
              "      <td>1995</td>\n",
              "    </tr>\n",
              "    <tr>\n",
              "      <th>3</th>\n",
              "      <td>1995-04-01</td>\n",
              "      <td>4</td>\n",
              "      <td>city of london</td>\n",
              "      <td>77101</td>\n",
              "      <td>E09000001</td>\n",
              "      <td>7.0</td>\n",
              "      <td>NaN</td>\n",
              "      <td>1995</td>\n",
              "    </tr>\n",
              "    <tr>\n",
              "      <th>4</th>\n",
              "      <td>1995-05-01</td>\n",
              "      <td>5</td>\n",
              "      <td>city of london</td>\n",
              "      <td>84409</td>\n",
              "      <td>E09000001</td>\n",
              "      <td>10.0</td>\n",
              "      <td>NaN</td>\n",
              "      <td>1995</td>\n",
              "    </tr>\n",
              "  </tbody>\n",
              "</table>\n",
              "</div>"
            ],
            "text/plain": [
              "        date  month            area  ...  houses_sold no_of_crimes  year\n",
              "0 1995-01-01      1  city of london  ...         17.0          NaN  1995\n",
              "1 1995-02-01      2  city of london  ...          7.0          NaN  1995\n",
              "2 1995-03-01      3  city of london  ...         14.0          NaN  1995\n",
              "3 1995-04-01      4  city of london  ...          7.0          NaN  1995\n",
              "4 1995-05-01      5  city of london  ...         10.0          NaN  1995\n",
              "\n",
              "[5 rows x 8 columns]"
            ]
          },
          "metadata": {
            "tags": []
          },
          "execution_count": 44
        }
      ]
    },
    {
      "cell_type": "markdown",
      "metadata": {
        "id": "wVfuyIanyijU"
      },
      "source": [
        "# remove the columns 'year' and 'month' from the dataframe"
      ]
    },
    {
      "cell_type": "code",
      "metadata": {
        "id": "ICwKVCpCyXs_"
      },
      "source": [
        "data.drop(['month','year'],axis=1,inplace=True)"
      ],
      "execution_count": 45,
      "outputs": []
    },
    {
      "cell_type": "code",
      "metadata": {
        "colab": {
          "base_uri": "https://localhost:8080/",
          "height": 204
        },
        "id": "cGmK-4pcyy3O",
        "outputId": "beb66b41-89b0-43df-8e33-2382b002dda0"
      },
      "source": [
        "data.head()"
      ],
      "execution_count": 46,
      "outputs": [
        {
          "output_type": "execute_result",
          "data": {
            "text/html": [
              "<div>\n",
              "<style scoped>\n",
              "    .dataframe tbody tr th:only-of-type {\n",
              "        vertical-align: middle;\n",
              "    }\n",
              "\n",
              "    .dataframe tbody tr th {\n",
              "        vertical-align: top;\n",
              "    }\n",
              "\n",
              "    .dataframe thead th {\n",
              "        text-align: right;\n",
              "    }\n",
              "</style>\n",
              "<table border=\"1\" class=\"dataframe\">\n",
              "  <thead>\n",
              "    <tr style=\"text-align: right;\">\n",
              "      <th></th>\n",
              "      <th>date</th>\n",
              "      <th>area</th>\n",
              "      <th>average_price</th>\n",
              "      <th>code</th>\n",
              "      <th>houses_sold</th>\n",
              "      <th>no_of_crimes</th>\n",
              "    </tr>\n",
              "  </thead>\n",
              "  <tbody>\n",
              "    <tr>\n",
              "      <th>0</th>\n",
              "      <td>1995-01-01</td>\n",
              "      <td>city of london</td>\n",
              "      <td>91449</td>\n",
              "      <td>E09000001</td>\n",
              "      <td>17.0</td>\n",
              "      <td>NaN</td>\n",
              "    </tr>\n",
              "    <tr>\n",
              "      <th>1</th>\n",
              "      <td>1995-02-01</td>\n",
              "      <td>city of london</td>\n",
              "      <td>82203</td>\n",
              "      <td>E09000001</td>\n",
              "      <td>7.0</td>\n",
              "      <td>NaN</td>\n",
              "    </tr>\n",
              "    <tr>\n",
              "      <th>2</th>\n",
              "      <td>1995-03-01</td>\n",
              "      <td>city of london</td>\n",
              "      <td>79121</td>\n",
              "      <td>E09000001</td>\n",
              "      <td>14.0</td>\n",
              "      <td>NaN</td>\n",
              "    </tr>\n",
              "    <tr>\n",
              "      <th>3</th>\n",
              "      <td>1995-04-01</td>\n",
              "      <td>city of london</td>\n",
              "      <td>77101</td>\n",
              "      <td>E09000001</td>\n",
              "      <td>7.0</td>\n",
              "      <td>NaN</td>\n",
              "    </tr>\n",
              "    <tr>\n",
              "      <th>4</th>\n",
              "      <td>1995-05-01</td>\n",
              "      <td>city of london</td>\n",
              "      <td>84409</td>\n",
              "      <td>E09000001</td>\n",
              "      <td>10.0</td>\n",
              "      <td>NaN</td>\n",
              "    </tr>\n",
              "  </tbody>\n",
              "</table>\n",
              "</div>"
            ],
            "text/plain": [
              "        date            area  ...  houses_sold no_of_crimes\n",
              "0 1995-01-01  city of london  ...         17.0          NaN\n",
              "1 1995-02-01  city of london  ...          7.0          NaN\n",
              "2 1995-03-01  city of london  ...         14.0          NaN\n",
              "3 1995-04-01  city of london  ...          7.0          NaN\n",
              "4 1995-05-01  city of london  ...         10.0          NaN\n",
              "\n",
              "[5 rows x 6 columns]"
            ]
          },
          "metadata": {
            "tags": []
          },
          "execution_count": 46
        }
      ]
    },
    {
      "cell_type": "markdown",
      "metadata": {
        "id": "KJhqs2_8y33B"
      },
      "source": [
        "# Show all the records where 'No. of crime'is 0."
      ]
    },
    {
      "cell_type": "code",
      "metadata": {
        "colab": {
          "base_uri": "https://localhost:8080/",
          "height": 204
        },
        "id": "qwShr3Lry1PO",
        "outputId": "34249747-2894-4b9d-ef4e-7433cc00e3b4"
      },
      "source": [
        "data.head()"
      ],
      "execution_count": 48,
      "outputs": [
        {
          "output_type": "execute_result",
          "data": {
            "text/html": [
              "<div>\n",
              "<style scoped>\n",
              "    .dataframe tbody tr th:only-of-type {\n",
              "        vertical-align: middle;\n",
              "    }\n",
              "\n",
              "    .dataframe tbody tr th {\n",
              "        vertical-align: top;\n",
              "    }\n",
              "\n",
              "    .dataframe thead th {\n",
              "        text-align: right;\n",
              "    }\n",
              "</style>\n",
              "<table border=\"1\" class=\"dataframe\">\n",
              "  <thead>\n",
              "    <tr style=\"text-align: right;\">\n",
              "      <th></th>\n",
              "      <th>date</th>\n",
              "      <th>area</th>\n",
              "      <th>average_price</th>\n",
              "      <th>code</th>\n",
              "      <th>houses_sold</th>\n",
              "      <th>no_of_crimes</th>\n",
              "    </tr>\n",
              "  </thead>\n",
              "  <tbody>\n",
              "    <tr>\n",
              "      <th>0</th>\n",
              "      <td>1995-01-01</td>\n",
              "      <td>city of london</td>\n",
              "      <td>91449</td>\n",
              "      <td>E09000001</td>\n",
              "      <td>17.0</td>\n",
              "      <td>NaN</td>\n",
              "    </tr>\n",
              "    <tr>\n",
              "      <th>1</th>\n",
              "      <td>1995-02-01</td>\n",
              "      <td>city of london</td>\n",
              "      <td>82203</td>\n",
              "      <td>E09000001</td>\n",
              "      <td>7.0</td>\n",
              "      <td>NaN</td>\n",
              "    </tr>\n",
              "    <tr>\n",
              "      <th>2</th>\n",
              "      <td>1995-03-01</td>\n",
              "      <td>city of london</td>\n",
              "      <td>79121</td>\n",
              "      <td>E09000001</td>\n",
              "      <td>14.0</td>\n",
              "      <td>NaN</td>\n",
              "    </tr>\n",
              "    <tr>\n",
              "      <th>3</th>\n",
              "      <td>1995-04-01</td>\n",
              "      <td>city of london</td>\n",
              "      <td>77101</td>\n",
              "      <td>E09000001</td>\n",
              "      <td>7.0</td>\n",
              "      <td>NaN</td>\n",
              "    </tr>\n",
              "    <tr>\n",
              "      <th>4</th>\n",
              "      <td>1995-05-01</td>\n",
              "      <td>city of london</td>\n",
              "      <td>84409</td>\n",
              "      <td>E09000001</td>\n",
              "      <td>10.0</td>\n",
              "      <td>NaN</td>\n",
              "    </tr>\n",
              "  </tbody>\n",
              "</table>\n",
              "</div>"
            ],
            "text/plain": [
              "        date            area  ...  houses_sold no_of_crimes\n",
              "0 1995-01-01  city of london  ...         17.0          NaN\n",
              "1 1995-02-01  city of london  ...          7.0          NaN\n",
              "2 1995-03-01  city of london  ...         14.0          NaN\n",
              "3 1995-04-01  city of london  ...          7.0          NaN\n",
              "4 1995-05-01  city of london  ...         10.0          NaN\n",
              "\n",
              "[5 rows x 6 columns]"
            ]
          },
          "metadata": {
            "tags": []
          },
          "execution_count": 48
        }
      ]
    },
    {
      "cell_type": "code",
      "metadata": {
        "colab": {
          "base_uri": "https://localhost:8080/"
        },
        "id": "zhM0FwiAzKDN",
        "outputId": "2e191a54-2fa3-47a7-a09d-ee97e6be802e"
      },
      "source": [
        "data.no_of_crimes==0"
      ],
      "execution_count": 51,
      "outputs": [
        {
          "output_type": "execute_result",
          "data": {
            "text/plain": [
              "0        False\n",
              "1        False\n",
              "2        False\n",
              "3        False\n",
              "4        False\n",
              "         ...  \n",
              "13544    False\n",
              "13545    False\n",
              "13546    False\n",
              "13547    False\n",
              "13548    False\n",
              "Name: no_of_crimes, Length: 13549, dtype: bool"
            ]
          },
          "metadata": {
            "tags": []
          },
          "execution_count": 51
        }
      ]
    },
    {
      "cell_type": "markdown",
      "metadata": {
        "id": "8VjF4Y3gzg_i"
      },
      "source": [
        "# What is maximum and minimum average price per year in england"
      ]
    },
    {
      "cell_type": "code",
      "metadata": {
        "colab": {
          "base_uri": "https://localhost:8080/",
          "height": 204
        },
        "id": "dlwUzulczVp8",
        "outputId": "e807c002-b218-4194-db22-43bf451ec045"
      },
      "source": [
        "data.head()"
      ],
      "execution_count": 52,
      "outputs": [
        {
          "output_type": "execute_result",
          "data": {
            "text/html": [
              "<div>\n",
              "<style scoped>\n",
              "    .dataframe tbody tr th:only-of-type {\n",
              "        vertical-align: middle;\n",
              "    }\n",
              "\n",
              "    .dataframe tbody tr th {\n",
              "        vertical-align: top;\n",
              "    }\n",
              "\n",
              "    .dataframe thead th {\n",
              "        text-align: right;\n",
              "    }\n",
              "</style>\n",
              "<table border=\"1\" class=\"dataframe\">\n",
              "  <thead>\n",
              "    <tr style=\"text-align: right;\">\n",
              "      <th></th>\n",
              "      <th>date</th>\n",
              "      <th>area</th>\n",
              "      <th>average_price</th>\n",
              "      <th>code</th>\n",
              "      <th>houses_sold</th>\n",
              "      <th>no_of_crimes</th>\n",
              "    </tr>\n",
              "  </thead>\n",
              "  <tbody>\n",
              "    <tr>\n",
              "      <th>0</th>\n",
              "      <td>1995-01-01</td>\n",
              "      <td>city of london</td>\n",
              "      <td>91449</td>\n",
              "      <td>E09000001</td>\n",
              "      <td>17.0</td>\n",
              "      <td>NaN</td>\n",
              "    </tr>\n",
              "    <tr>\n",
              "      <th>1</th>\n",
              "      <td>1995-02-01</td>\n",
              "      <td>city of london</td>\n",
              "      <td>82203</td>\n",
              "      <td>E09000001</td>\n",
              "      <td>7.0</td>\n",
              "      <td>NaN</td>\n",
              "    </tr>\n",
              "    <tr>\n",
              "      <th>2</th>\n",
              "      <td>1995-03-01</td>\n",
              "      <td>city of london</td>\n",
              "      <td>79121</td>\n",
              "      <td>E09000001</td>\n",
              "      <td>14.0</td>\n",
              "      <td>NaN</td>\n",
              "    </tr>\n",
              "    <tr>\n",
              "      <th>3</th>\n",
              "      <td>1995-04-01</td>\n",
              "      <td>city of london</td>\n",
              "      <td>77101</td>\n",
              "      <td>E09000001</td>\n",
              "      <td>7.0</td>\n",
              "      <td>NaN</td>\n",
              "    </tr>\n",
              "    <tr>\n",
              "      <th>4</th>\n",
              "      <td>1995-05-01</td>\n",
              "      <td>city of london</td>\n",
              "      <td>84409</td>\n",
              "      <td>E09000001</td>\n",
              "      <td>10.0</td>\n",
              "      <td>NaN</td>\n",
              "    </tr>\n",
              "  </tbody>\n",
              "</table>\n",
              "</div>"
            ],
            "text/plain": [
              "        date            area  ...  houses_sold no_of_crimes\n",
              "0 1995-01-01  city of london  ...         17.0          NaN\n",
              "1 1995-02-01  city of london  ...          7.0          NaN\n",
              "2 1995-03-01  city of london  ...         14.0          NaN\n",
              "3 1995-04-01  city of london  ...          7.0          NaN\n",
              "4 1995-05-01  city of london  ...         10.0          NaN\n",
              "\n",
              "[5 rows x 6 columns]"
            ]
          },
          "metadata": {
            "tags": []
          },
          "execution_count": 52
        }
      ]
    },
    {
      "cell_type": "code",
      "metadata": {
        "colab": {
          "base_uri": "https://localhost:8080/",
          "height": 204
        },
        "id": "5jqgU9SNz0U9",
        "outputId": "80de7ab0-e28f-47b5-bcd8-fe19bfda2ccb"
      },
      "source": [
        "df['year']=data.date.dt.year\n",
        "df.head()"
      ],
      "execution_count": 73,
      "outputs": [
        {
          "output_type": "execute_result",
          "data": {
            "text/html": [
              "<div>\n",
              "<style scoped>\n",
              "    .dataframe tbody tr th:only-of-type {\n",
              "        vertical-align: middle;\n",
              "    }\n",
              "\n",
              "    .dataframe tbody tr th {\n",
              "        vertical-align: top;\n",
              "    }\n",
              "\n",
              "    .dataframe thead th {\n",
              "        text-align: right;\n",
              "    }\n",
              "</style>\n",
              "<table border=\"1\" class=\"dataframe\">\n",
              "  <thead>\n",
              "    <tr style=\"text-align: right;\">\n",
              "      <th></th>\n",
              "      <th>date</th>\n",
              "      <th>area</th>\n",
              "      <th>average_price</th>\n",
              "      <th>code</th>\n",
              "      <th>houses_sold</th>\n",
              "      <th>no_of_crimes</th>\n",
              "      <th>year</th>\n",
              "    </tr>\n",
              "  </thead>\n",
              "  <tbody>\n",
              "    <tr>\n",
              "      <th>0</th>\n",
              "      <td>1995-01-01</td>\n",
              "      <td>England</td>\n",
              "      <td>91449</td>\n",
              "      <td>E09000001</td>\n",
              "      <td>17.0</td>\n",
              "      <td>NaN</td>\n",
              "      <td>1995</td>\n",
              "    </tr>\n",
              "    <tr>\n",
              "      <th>1</th>\n",
              "      <td>1995-02-01</td>\n",
              "      <td>England</td>\n",
              "      <td>82203</td>\n",
              "      <td>E09000001</td>\n",
              "      <td>7.0</td>\n",
              "      <td>NaN</td>\n",
              "      <td>1995</td>\n",
              "    </tr>\n",
              "    <tr>\n",
              "      <th>2</th>\n",
              "      <td>1995-03-01</td>\n",
              "      <td>England</td>\n",
              "      <td>79121</td>\n",
              "      <td>E09000001</td>\n",
              "      <td>14.0</td>\n",
              "      <td>NaN</td>\n",
              "      <td>1995</td>\n",
              "    </tr>\n",
              "    <tr>\n",
              "      <th>3</th>\n",
              "      <td>1995-04-01</td>\n",
              "      <td>England</td>\n",
              "      <td>77101</td>\n",
              "      <td>E09000001</td>\n",
              "      <td>7.0</td>\n",
              "      <td>NaN</td>\n",
              "      <td>1995</td>\n",
              "    </tr>\n",
              "    <tr>\n",
              "      <th>4</th>\n",
              "      <td>1995-05-01</td>\n",
              "      <td>England</td>\n",
              "      <td>84409</td>\n",
              "      <td>E09000001</td>\n",
              "      <td>10.0</td>\n",
              "      <td>NaN</td>\n",
              "      <td>1995</td>\n",
              "    </tr>\n",
              "  </tbody>\n",
              "</table>\n",
              "</div>"
            ],
            "text/plain": [
              "        date     area  average_price  ... houses_sold  no_of_crimes  year\n",
              "0 1995-01-01  England          91449  ...        17.0           NaN  1995\n",
              "1 1995-02-01  England          82203  ...         7.0           NaN  1995\n",
              "2 1995-03-01  England          79121  ...        14.0           NaN  1995\n",
              "3 1995-04-01  England          77101  ...         7.0           NaN  1995\n",
              "4 1995-05-01  England          84409  ...        10.0           NaN  1995\n",
              "\n",
              "[5 rows x 7 columns]"
            ]
          },
          "metadata": {
            "tags": []
          },
          "execution_count": 73
        }
      ]
    },
    {
      "cell_type": "code",
      "metadata": {
        "colab": {
          "base_uri": "https://localhost:8080/",
          "height": 419
        },
        "id": "CYM7Etgdz-CL",
        "outputId": "7140df75-d216-4a55-ea32-280e89bcabb1"
      },
      "source": [
        "df=data[data.area=='England']\n",
        "df"
      ],
      "execution_count": 74,
      "outputs": [
        {
          "output_type": "execute_result",
          "data": {
            "text/html": [
              "<div>\n",
              "<style scoped>\n",
              "    .dataframe tbody tr th:only-of-type {\n",
              "        vertical-align: middle;\n",
              "    }\n",
              "\n",
              "    .dataframe tbody tr th {\n",
              "        vertical-align: top;\n",
              "    }\n",
              "\n",
              "    .dataframe thead th {\n",
              "        text-align: right;\n",
              "    }\n",
              "</style>\n",
              "<table border=\"1\" class=\"dataframe\">\n",
              "  <thead>\n",
              "    <tr style=\"text-align: right;\">\n",
              "      <th></th>\n",
              "      <th>date</th>\n",
              "      <th>area</th>\n",
              "      <th>average_price</th>\n",
              "      <th>code</th>\n",
              "      <th>houses_sold</th>\n",
              "      <th>no_of_crimes</th>\n",
              "      <th>year</th>\n",
              "    </tr>\n",
              "  </thead>\n",
              "  <tbody>\n",
              "    <tr>\n",
              "      <th>0</th>\n",
              "      <td>1995-01-01</td>\n",
              "      <td>England</td>\n",
              "      <td>91449</td>\n",
              "      <td>E09000001</td>\n",
              "      <td>17.0</td>\n",
              "      <td>NaN</td>\n",
              "      <td>1995</td>\n",
              "    </tr>\n",
              "    <tr>\n",
              "      <th>1</th>\n",
              "      <td>1995-02-01</td>\n",
              "      <td>England</td>\n",
              "      <td>82203</td>\n",
              "      <td>E09000001</td>\n",
              "      <td>7.0</td>\n",
              "      <td>NaN</td>\n",
              "      <td>1995</td>\n",
              "    </tr>\n",
              "    <tr>\n",
              "      <th>2</th>\n",
              "      <td>1995-03-01</td>\n",
              "      <td>England</td>\n",
              "      <td>79121</td>\n",
              "      <td>E09000001</td>\n",
              "      <td>14.0</td>\n",
              "      <td>NaN</td>\n",
              "      <td>1995</td>\n",
              "    </tr>\n",
              "    <tr>\n",
              "      <th>3</th>\n",
              "      <td>1995-04-01</td>\n",
              "      <td>England</td>\n",
              "      <td>77101</td>\n",
              "      <td>E09000001</td>\n",
              "      <td>7.0</td>\n",
              "      <td>NaN</td>\n",
              "      <td>1995</td>\n",
              "    </tr>\n",
              "    <tr>\n",
              "      <th>4</th>\n",
              "      <td>1995-05-01</td>\n",
              "      <td>England</td>\n",
              "      <td>84409</td>\n",
              "      <td>E09000001</td>\n",
              "      <td>10.0</td>\n",
              "      <td>NaN</td>\n",
              "      <td>1995</td>\n",
              "    </tr>\n",
              "    <tr>\n",
              "      <th>...</th>\n",
              "      <td>...</td>\n",
              "      <td>...</td>\n",
              "      <td>...</td>\n",
              "      <td>...</td>\n",
              "      <td>...</td>\n",
              "      <td>...</td>\n",
              "      <td>...</td>\n",
              "    </tr>\n",
              "    <tr>\n",
              "      <th>13544</th>\n",
              "      <td>2019-09-01</td>\n",
              "      <td>England</td>\n",
              "      <td>249942</td>\n",
              "      <td>E92000001</td>\n",
              "      <td>64605.0</td>\n",
              "      <td>NaN</td>\n",
              "      <td>2019</td>\n",
              "    </tr>\n",
              "    <tr>\n",
              "      <th>13545</th>\n",
              "      <td>2019-10-01</td>\n",
              "      <td>England</td>\n",
              "      <td>249376</td>\n",
              "      <td>E92000001</td>\n",
              "      <td>68677.0</td>\n",
              "      <td>NaN</td>\n",
              "      <td>2019</td>\n",
              "    </tr>\n",
              "    <tr>\n",
              "      <th>13546</th>\n",
              "      <td>2019-11-01</td>\n",
              "      <td>England</td>\n",
              "      <td>248515</td>\n",
              "      <td>E92000001</td>\n",
              "      <td>67814.0</td>\n",
              "      <td>NaN</td>\n",
              "      <td>2019</td>\n",
              "    </tr>\n",
              "    <tr>\n",
              "      <th>13547</th>\n",
              "      <td>2019-12-01</td>\n",
              "      <td>England</td>\n",
              "      <td>250410</td>\n",
              "      <td>E92000001</td>\n",
              "      <td>NaN</td>\n",
              "      <td>NaN</td>\n",
              "      <td>2019</td>\n",
              "    </tr>\n",
              "    <tr>\n",
              "      <th>13548</th>\n",
              "      <td>2020-01-01</td>\n",
              "      <td>England</td>\n",
              "      <td>247355</td>\n",
              "      <td>E92000001</td>\n",
              "      <td>NaN</td>\n",
              "      <td>NaN</td>\n",
              "      <td>2020</td>\n",
              "    </tr>\n",
              "  </tbody>\n",
              "</table>\n",
              "<p>13549 rows × 7 columns</p>\n",
              "</div>"
            ],
            "text/plain": [
              "            date     area  average_price  ... houses_sold  no_of_crimes  year\n",
              "0     1995-01-01  England          91449  ...        17.0           NaN  1995\n",
              "1     1995-02-01  England          82203  ...         7.0           NaN  1995\n",
              "2     1995-03-01  England          79121  ...        14.0           NaN  1995\n",
              "3     1995-04-01  England          77101  ...         7.0           NaN  1995\n",
              "4     1995-05-01  England          84409  ...        10.0           NaN  1995\n",
              "...          ...      ...            ...  ...         ...           ...   ...\n",
              "13544 2019-09-01  England         249942  ...     64605.0           NaN  2019\n",
              "13545 2019-10-01  England         249376  ...     68677.0           NaN  2019\n",
              "13546 2019-11-01  England         248515  ...     67814.0           NaN  2019\n",
              "13547 2019-12-01  England         250410  ...         NaN           NaN  2019\n",
              "13548 2020-01-01  England         247355  ...         NaN           NaN  2020\n",
              "\n",
              "[13549 rows x 7 columns]"
            ]
          },
          "metadata": {
            "tags": []
          },
          "execution_count": 74
        }
      ]
    },
    {
      "cell_type": "code",
      "metadata": {
        "colab": {
          "base_uri": "https://localhost:8080/"
        },
        "id": "2T9HJCn00wwF",
        "outputId": "9657eb35-ad6a-4666-a6c8-cb7a9cc7e5bb"
      },
      "source": [
        "df.min()"
      ],
      "execution_count": 75,
      "outputs": [
        {
          "output_type": "execute_result",
          "data": {
            "text/plain": [
              "date             1995-01-01 00:00:00\n",
              "area                         England\n",
              "average_price                  40722\n",
              "code                       E09000001\n",
              "houses_sold                        2\n",
              "no_of_crimes                       0\n",
              "year                            1995\n",
              "dtype: object"
            ]
          },
          "metadata": {
            "tags": []
          },
          "execution_count": 75
        }
      ]
    },
    {
      "cell_type": "code",
      "metadata": {
        "colab": {
          "base_uri": "https://localhost:8080/"
        },
        "id": "ZmltQ6M90zVI",
        "outputId": "a9ee3720-5f1a-47f5-c78d-b307dcac7838"
      },
      "source": [
        "df.max()"
      ],
      "execution_count": 76,
      "outputs": [
        {
          "output_type": "execute_result",
          "data": {
            "text/plain": [
              "date             2020-01-01 00:00:00\n",
              "area                         England\n",
              "average_price                1463378\n",
              "code                       E92000001\n",
              "houses_sold                   132163\n",
              "no_of_crimes                    7461\n",
              "year                            2020\n",
              "dtype: object"
            ]
          },
          "metadata": {
            "tags": []
          },
          "execution_count": 76
        }
      ]
    },
    {
      "cell_type": "code",
      "metadata": {
        "colab": {
          "base_uri": "https://localhost:8080/"
        },
        "id": "_zK9sw3n033I",
        "outputId": "dc77a5ac-c69b-481c-c08d-dfd1fe90c818"
      },
      "source": [
        "df.groupby('year').average_price.min()"
      ],
      "execution_count": 77,
      "outputs": [
        {
          "output_type": "execute_result",
          "data": {
            "text/plain": [
              "year\n",
              "1995     41688\n",
              "1996     40722\n",
              "1997     42353\n",
              "1998     43510\n",
              "1999     43969\n",
              "2000     47604\n",
              "2001     49045\n",
              "2002     54746\n",
              "2003     67520\n",
              "2004     88520\n",
              "2005    110454\n",
              "2006    121124\n",
              "2007    131175\n",
              "2008    120275\n",
              "2009    117079\n",
              "2010    119688\n",
              "2011    115328\n",
              "2012    113011\n",
              "2013    112008\n",
              "2014    114531\n",
              "2015    117156\n",
              "2016    121085\n",
              "2017    121858\n",
              "2018    124038\n",
              "2019    124567\n",
              "2020    126592\n",
              "Name: average_price, dtype: int64"
            ]
          },
          "metadata": {
            "tags": []
          },
          "execution_count": 77
        }
      ]
    },
    {
      "cell_type": "code",
      "metadata": {
        "colab": {
          "base_uri": "https://localhost:8080/"
        },
        "id": "vC7jkFaM1NAH",
        "outputId": "a6c922f9-e315-48bd-aaf5-855054ff75db"
      },
      "source": [
        "df.groupby('year').average_price.max()"
      ],
      "execution_count": 78,
      "outputs": [
        {
          "output_type": "execute_result",
          "data": {
            "text/plain": [
              "year\n",
              "1995     200722\n",
              "1996     223197\n",
              "1997     265112\n",
              "1998     277600\n",
              "1999     354241\n",
              "2000     397353\n",
              "2001     451028\n",
              "2002     497538\n",
              "2003     488704\n",
              "2004     559286\n",
              "2005     555847\n",
              "2006     644541\n",
              "2007     830950\n",
              "2008     832753\n",
              "2009     782459\n",
              "2010     884674\n",
              "2011     959520\n",
              "2012    1077366\n",
              "2013    1217729\n",
              "2014    1365050\n",
              "2015    1353679\n",
              "2016    1357231\n",
              "2017    1412255\n",
              "2018    1463378\n",
              "2019    1294113\n",
              "2020    1178166\n",
              "Name: average_price, dtype: int64"
            ]
          },
          "metadata": {
            "tags": []
          },
          "execution_count": 78
        }
      ]
    },
    {
      "cell_type": "markdown",
      "metadata": {
        "id": "IH31Stu01n_k"
      },
      "source": [
        "# Find the Minimum No.of crimes recorded per area"
      ]
    },
    {
      "cell_type": "code",
      "metadata": {
        "colab": {
          "base_uri": "https://localhost:8080/",
          "height": 204
        },
        "id": "yv6TnOsr1lL3",
        "outputId": "f39317f9-2d41-4154-b45a-552d46478b10"
      },
      "source": [
        "df2=pd.read_csv('/content/5. London Housing Data.csv')\n",
        "df2.head()"
      ],
      "execution_count": 84,
      "outputs": [
        {
          "output_type": "execute_result",
          "data": {
            "text/html": [
              "<div>\n",
              "<style scoped>\n",
              "    .dataframe tbody tr th:only-of-type {\n",
              "        vertical-align: middle;\n",
              "    }\n",
              "\n",
              "    .dataframe tbody tr th {\n",
              "        vertical-align: top;\n",
              "    }\n",
              "\n",
              "    .dataframe thead th {\n",
              "        text-align: right;\n",
              "    }\n",
              "</style>\n",
              "<table border=\"1\" class=\"dataframe\">\n",
              "  <thead>\n",
              "    <tr style=\"text-align: right;\">\n",
              "      <th></th>\n",
              "      <th>date</th>\n",
              "      <th>area</th>\n",
              "      <th>average_price</th>\n",
              "      <th>code</th>\n",
              "      <th>houses_sold</th>\n",
              "      <th>no_of_crimes</th>\n",
              "    </tr>\n",
              "  </thead>\n",
              "  <tbody>\n",
              "    <tr>\n",
              "      <th>0</th>\n",
              "      <td>1/1/1995</td>\n",
              "      <td>city of london</td>\n",
              "      <td>91449</td>\n",
              "      <td>E09000001</td>\n",
              "      <td>17.0</td>\n",
              "      <td>NaN</td>\n",
              "    </tr>\n",
              "    <tr>\n",
              "      <th>1</th>\n",
              "      <td>2/1/1995</td>\n",
              "      <td>city of london</td>\n",
              "      <td>82203</td>\n",
              "      <td>E09000001</td>\n",
              "      <td>7.0</td>\n",
              "      <td>NaN</td>\n",
              "    </tr>\n",
              "    <tr>\n",
              "      <th>2</th>\n",
              "      <td>3/1/1995</td>\n",
              "      <td>city of london</td>\n",
              "      <td>79121</td>\n",
              "      <td>E09000001</td>\n",
              "      <td>14.0</td>\n",
              "      <td>NaN</td>\n",
              "    </tr>\n",
              "    <tr>\n",
              "      <th>3</th>\n",
              "      <td>4/1/1995</td>\n",
              "      <td>city of london</td>\n",
              "      <td>77101</td>\n",
              "      <td>E09000001</td>\n",
              "      <td>7.0</td>\n",
              "      <td>NaN</td>\n",
              "    </tr>\n",
              "    <tr>\n",
              "      <th>4</th>\n",
              "      <td>5/1/1995</td>\n",
              "      <td>city of london</td>\n",
              "      <td>84409</td>\n",
              "      <td>E09000001</td>\n",
              "      <td>10.0</td>\n",
              "      <td>NaN</td>\n",
              "    </tr>\n",
              "  </tbody>\n",
              "</table>\n",
              "</div>"
            ],
            "text/plain": [
              "       date            area  ...  houses_sold no_of_crimes\n",
              "0  1/1/1995  city of london  ...         17.0          NaN\n",
              "1  2/1/1995  city of london  ...          7.0          NaN\n",
              "2  3/1/1995  city of london  ...         14.0          NaN\n",
              "3  4/1/1995  city of london  ...          7.0          NaN\n",
              "4  5/1/1995  city of london  ...         10.0          NaN\n",
              "\n",
              "[5 rows x 6 columns]"
            ]
          },
          "metadata": {
            "tags": []
          },
          "execution_count": 84
        }
      ]
    },
    {
      "cell_type": "code",
      "metadata": {
        "colab": {
          "base_uri": "https://localhost:8080/"
        },
        "id": "tm8d180T1yzl",
        "outputId": "43637e94-e632-4b20-a84a-eaa55eca0ba6"
      },
      "source": [
        "df2.groupby('area').no_of_crimes.min()"
      ],
      "execution_count": 88,
      "outputs": [
        {
          "output_type": "execute_result",
          "data": {
            "text/plain": [
              "area\n",
              "barking and dagenham      1217.0\n",
              "barnet                    1703.0\n",
              "bexley                     860.0\n",
              "brent                     1850.0\n",
              "bromley                   1441.0\n",
              "camden                    2079.0\n",
              "city of london               0.0\n",
              "croydon                   2031.0\n",
              "ealing                    1871.0\n",
              "east midlands                NaN\n",
              "east of england              NaN\n",
              "enfield                   1635.0\n",
              "england                      NaN\n",
              "greenwich                 1513.0\n",
              "hackney                   1870.0\n",
              "hammersmith and fulham    1323.0\n",
              "haringey                  1536.0\n",
              "harrow                     937.0\n",
              "havering                  1130.0\n",
              "hillingdon                1445.0\n",
              "hounslow                  1529.0\n",
              "inner london                 NaN\n",
              "islington                 1871.0\n",
              "kensington and chelsea    1347.0\n",
              "kingston upon thames       692.0\n",
              "lambeth                   2381.0\n",
              "lewisham                  1675.0\n",
              "london                       NaN\n",
              "merton                     819.0\n",
              "newham                    2130.0\n",
              "north east                   NaN\n",
              "north west                   NaN\n",
              "outer london                 NaN\n",
              "redbridge                 1487.0\n",
              "richmond upon thames       700.0\n",
              "south east                   NaN\n",
              "south west                   NaN\n",
              "southwark                 2267.0\n",
              "sutton                     787.0\n",
              "tower hamlets             1646.0\n",
              "waltham forest            1575.0\n",
              "wandsworth                1582.0\n",
              "west midlands                NaN\n",
              "westminster               3504.0\n",
              "yorks and the humber         NaN\n",
              "Name: no_of_crimes, dtype: float64"
            ]
          },
          "metadata": {
            "tags": []
          },
          "execution_count": 88
        }
      ]
    },
    {
      "cell_type": "code",
      "metadata": {
        "colab": {
          "base_uri": "https://localhost:8080/"
        },
        "id": "8XW8LmZc2B5U",
        "outputId": "55af0b9e-0a5c-4ffc-8b00-1cdd4aab0671"
      },
      "source": [
        "df2.groupby('area').no_of_crimes.max()"
      ],
      "execution_count": 87,
      "outputs": [
        {
          "output_type": "execute_result",
          "data": {
            "text/plain": [
              "area\n",
              "barking and dagenham      2049.0\n",
              "barnet                    2893.0\n",
              "bexley                    1914.0\n",
              "brent                     2937.0\n",
              "bromley                   2637.0\n",
              "camden                    4558.0\n",
              "city of london              10.0\n",
              "croydon                   3263.0\n",
              "ealing                    3401.0\n",
              "east midlands                NaN\n",
              "east of england              NaN\n",
              "enfield                   2798.0\n",
              "england                      NaN\n",
              "greenwich                 2853.0\n",
              "hackney                   3466.0\n",
              "hammersmith and fulham    2645.0\n",
              "haringey                  3199.0\n",
              "harrow                    1763.0\n",
              "havering                  1956.0\n",
              "hillingdon                2819.0\n",
              "hounslow                  2817.0\n",
              "inner london                 NaN\n",
              "islington                 3384.0\n",
              "kensington and chelsea    2778.0\n",
              "kingston upon thames      1379.0\n",
              "lambeth                   4701.0\n",
              "lewisham                  2813.0\n",
              "london                       NaN\n",
              "merton                    1623.0\n",
              "newham                    3668.0\n",
              "north east                   NaN\n",
              "north west                   NaN\n",
              "outer london                 NaN\n",
              "redbridge                 2560.0\n",
              "richmond upon thames      1551.0\n",
              "south east                   NaN\n",
              "south west                   NaN\n",
              "southwark                 3821.0\n",
              "sutton                    1425.0\n",
              "tower hamlets             3316.0\n",
              "waltham forest            2941.0\n",
              "wandsworth                3051.0\n",
              "west midlands                NaN\n",
              "westminster               7461.0\n",
              "yorks and the humber         NaN\n",
              "Name: no_of_crimes, dtype: float64"
            ]
          },
          "metadata": {
            "tags": []
          },
          "execution_count": 87
        }
      ]
    },
    {
      "cell_type": "code",
      "metadata": {
        "colab": {
          "base_uri": "https://localhost:8080/"
        },
        "id": "mk5qxsCD3CdS",
        "outputId": "7c6f08f1-045f-4977-f64f-e1bbf2bc58b4"
      },
      "source": [
        "df2.groupby('area').no_of_crimes.max().sort_values(ascending=True)"
      ],
      "execution_count": 89,
      "outputs": [
        {
          "output_type": "execute_result",
          "data": {
            "text/plain": [
              "area\n",
              "city of london              10.0\n",
              "kingston upon thames      1379.0\n",
              "sutton                    1425.0\n",
              "richmond upon thames      1551.0\n",
              "merton                    1623.0\n",
              "harrow                    1763.0\n",
              "bexley                    1914.0\n",
              "havering                  1956.0\n",
              "barking and dagenham      2049.0\n",
              "redbridge                 2560.0\n",
              "bromley                   2637.0\n",
              "hammersmith and fulham    2645.0\n",
              "kensington and chelsea    2778.0\n",
              "enfield                   2798.0\n",
              "lewisham                  2813.0\n",
              "hounslow                  2817.0\n",
              "hillingdon                2819.0\n",
              "greenwich                 2853.0\n",
              "barnet                    2893.0\n",
              "brent                     2937.0\n",
              "waltham forest            2941.0\n",
              "wandsworth                3051.0\n",
              "haringey                  3199.0\n",
              "croydon                   3263.0\n",
              "tower hamlets             3316.0\n",
              "islington                 3384.0\n",
              "ealing                    3401.0\n",
              "hackney                   3466.0\n",
              "newham                    3668.0\n",
              "southwark                 3821.0\n",
              "camden                    4558.0\n",
              "lambeth                   4701.0\n",
              "westminster               7461.0\n",
              "east midlands                NaN\n",
              "east of england              NaN\n",
              "england                      NaN\n",
              "inner london                 NaN\n",
              "london                       NaN\n",
              "north east                   NaN\n",
              "north west                   NaN\n",
              "outer london                 NaN\n",
              "south east                   NaN\n",
              "south west                   NaN\n",
              "west midlands                NaN\n",
              "yorks and the humber         NaN\n",
              "Name: no_of_crimes, dtype: float64"
            ]
          },
          "metadata": {
            "tags": []
          },
          "execution_count": 89
        }
      ]
    },
    {
      "cell_type": "markdown",
      "metadata": {
        "id": "XXH_RyEN3J47"
      },
      "source": [
        "# Show the total count of records of each area,where average price less than 100000."
      ]
    },
    {
      "cell_type": "code",
      "metadata": {
        "colab": {
          "base_uri": "https://localhost:8080/",
          "height": 204
        },
        "id": "u4-HSHQf3py9",
        "outputId": "6aed57ac-f746-44f5-caa4-6b1b73621f2b"
      },
      "source": [
        "df2.head()"
      ],
      "execution_count": 90,
      "outputs": [
        {
          "output_type": "execute_result",
          "data": {
            "text/html": [
              "<div>\n",
              "<style scoped>\n",
              "    .dataframe tbody tr th:only-of-type {\n",
              "        vertical-align: middle;\n",
              "    }\n",
              "\n",
              "    .dataframe tbody tr th {\n",
              "        vertical-align: top;\n",
              "    }\n",
              "\n",
              "    .dataframe thead th {\n",
              "        text-align: right;\n",
              "    }\n",
              "</style>\n",
              "<table border=\"1\" class=\"dataframe\">\n",
              "  <thead>\n",
              "    <tr style=\"text-align: right;\">\n",
              "      <th></th>\n",
              "      <th>date</th>\n",
              "      <th>area</th>\n",
              "      <th>average_price</th>\n",
              "      <th>code</th>\n",
              "      <th>houses_sold</th>\n",
              "      <th>no_of_crimes</th>\n",
              "    </tr>\n",
              "  </thead>\n",
              "  <tbody>\n",
              "    <tr>\n",
              "      <th>0</th>\n",
              "      <td>1/1/1995</td>\n",
              "      <td>city of london</td>\n",
              "      <td>91449</td>\n",
              "      <td>E09000001</td>\n",
              "      <td>17.0</td>\n",
              "      <td>NaN</td>\n",
              "    </tr>\n",
              "    <tr>\n",
              "      <th>1</th>\n",
              "      <td>2/1/1995</td>\n",
              "      <td>city of london</td>\n",
              "      <td>82203</td>\n",
              "      <td>E09000001</td>\n",
              "      <td>7.0</td>\n",
              "      <td>NaN</td>\n",
              "    </tr>\n",
              "    <tr>\n",
              "      <th>2</th>\n",
              "      <td>3/1/1995</td>\n",
              "      <td>city of london</td>\n",
              "      <td>79121</td>\n",
              "      <td>E09000001</td>\n",
              "      <td>14.0</td>\n",
              "      <td>NaN</td>\n",
              "    </tr>\n",
              "    <tr>\n",
              "      <th>3</th>\n",
              "      <td>4/1/1995</td>\n",
              "      <td>city of london</td>\n",
              "      <td>77101</td>\n",
              "      <td>E09000001</td>\n",
              "      <td>7.0</td>\n",
              "      <td>NaN</td>\n",
              "    </tr>\n",
              "    <tr>\n",
              "      <th>4</th>\n",
              "      <td>5/1/1995</td>\n",
              "      <td>city of london</td>\n",
              "      <td>84409</td>\n",
              "      <td>E09000001</td>\n",
              "      <td>10.0</td>\n",
              "      <td>NaN</td>\n",
              "    </tr>\n",
              "  </tbody>\n",
              "</table>\n",
              "</div>"
            ],
            "text/plain": [
              "       date            area  ...  houses_sold no_of_crimes\n",
              "0  1/1/1995  city of london  ...         17.0          NaN\n",
              "1  2/1/1995  city of london  ...          7.0          NaN\n",
              "2  3/1/1995  city of london  ...         14.0          NaN\n",
              "3  4/1/1995  city of london  ...          7.0          NaN\n",
              "4  5/1/1995  city of london  ...         10.0          NaN\n",
              "\n",
              "[5 rows x 6 columns]"
            ]
          },
          "metadata": {
            "tags": []
          },
          "execution_count": 90
        }
      ]
    },
    {
      "cell_type": "code",
      "metadata": {
        "colab": {
          "base_uri": "https://localhost:8080/",
          "height": 419
        },
        "id": "VntT5oGj3vL_",
        "outputId": "8941db6b-00f7-48e2-e33f-45a2473d3ab7"
      },
      "source": [
        "df2[df2.average_price<100000]"
      ],
      "execution_count": 91,
      "outputs": [
        {
          "output_type": "execute_result",
          "data": {
            "text/html": [
              "<div>\n",
              "<style scoped>\n",
              "    .dataframe tbody tr th:only-of-type {\n",
              "        vertical-align: middle;\n",
              "    }\n",
              "\n",
              "    .dataframe tbody tr th {\n",
              "        vertical-align: top;\n",
              "    }\n",
              "\n",
              "    .dataframe thead th {\n",
              "        text-align: right;\n",
              "    }\n",
              "</style>\n",
              "<table border=\"1\" class=\"dataframe\">\n",
              "  <thead>\n",
              "    <tr style=\"text-align: right;\">\n",
              "      <th></th>\n",
              "      <th>date</th>\n",
              "      <th>area</th>\n",
              "      <th>average_price</th>\n",
              "      <th>code</th>\n",
              "      <th>houses_sold</th>\n",
              "      <th>no_of_crimes</th>\n",
              "    </tr>\n",
              "  </thead>\n",
              "  <tbody>\n",
              "    <tr>\n",
              "      <th>0</th>\n",
              "      <td>1/1/1995</td>\n",
              "      <td>city of london</td>\n",
              "      <td>91449</td>\n",
              "      <td>E09000001</td>\n",
              "      <td>17.0</td>\n",
              "      <td>NaN</td>\n",
              "    </tr>\n",
              "    <tr>\n",
              "      <th>1</th>\n",
              "      <td>2/1/1995</td>\n",
              "      <td>city of london</td>\n",
              "      <td>82203</td>\n",
              "      <td>E09000001</td>\n",
              "      <td>7.0</td>\n",
              "      <td>NaN</td>\n",
              "    </tr>\n",
              "    <tr>\n",
              "      <th>2</th>\n",
              "      <td>3/1/1995</td>\n",
              "      <td>city of london</td>\n",
              "      <td>79121</td>\n",
              "      <td>E09000001</td>\n",
              "      <td>14.0</td>\n",
              "      <td>NaN</td>\n",
              "    </tr>\n",
              "    <tr>\n",
              "      <th>3</th>\n",
              "      <td>4/1/1995</td>\n",
              "      <td>city of london</td>\n",
              "      <td>77101</td>\n",
              "      <td>E09000001</td>\n",
              "      <td>7.0</td>\n",
              "      <td>NaN</td>\n",
              "    </tr>\n",
              "    <tr>\n",
              "      <th>4</th>\n",
              "      <td>5/1/1995</td>\n",
              "      <td>city of london</td>\n",
              "      <td>84409</td>\n",
              "      <td>E09000001</td>\n",
              "      <td>10.0</td>\n",
              "      <td>NaN</td>\n",
              "    </tr>\n",
              "    <tr>\n",
              "      <th>...</th>\n",
              "      <td>...</td>\n",
              "      <td>...</td>\n",
              "      <td>...</td>\n",
              "      <td>...</td>\n",
              "      <td>...</td>\n",
              "      <td>...</td>\n",
              "    </tr>\n",
              "    <tr>\n",
              "      <th>13330</th>\n",
              "      <td>11/1/2001</td>\n",
              "      <td>england</td>\n",
              "      <td>95083</td>\n",
              "      <td>E92000001</td>\n",
              "      <td>109149.0</td>\n",
              "      <td>NaN</td>\n",
              "    </tr>\n",
              "    <tr>\n",
              "      <th>13331</th>\n",
              "      <td>12/1/2001</td>\n",
              "      <td>england</td>\n",
              "      <td>95992</td>\n",
              "      <td>E92000001</td>\n",
              "      <td>93329.0</td>\n",
              "      <td>NaN</td>\n",
              "    </tr>\n",
              "    <tr>\n",
              "      <th>13332</th>\n",
              "      <td>1/1/2002</td>\n",
              "      <td>england</td>\n",
              "      <td>96215</td>\n",
              "      <td>E92000001</td>\n",
              "      <td>71678.0</td>\n",
              "      <td>NaN</td>\n",
              "    </tr>\n",
              "    <tr>\n",
              "      <th>13333</th>\n",
              "      <td>2/1/2002</td>\n",
              "      <td>england</td>\n",
              "      <td>96676</td>\n",
              "      <td>E92000001</td>\n",
              "      <td>77131.0</td>\n",
              "      <td>NaN</td>\n",
              "    </tr>\n",
              "    <tr>\n",
              "      <th>13334</th>\n",
              "      <td>3/1/2002</td>\n",
              "      <td>england</td>\n",
              "      <td>98962</td>\n",
              "      <td>E92000001</td>\n",
              "      <td>102828.0</td>\n",
              "      <td>NaN</td>\n",
              "    </tr>\n",
              "  </tbody>\n",
              "</table>\n",
              "<p>2209 rows × 6 columns</p>\n",
              "</div>"
            ],
            "text/plain": [
              "            date            area  ...  houses_sold no_of_crimes\n",
              "0       1/1/1995  city of london  ...         17.0          NaN\n",
              "1       2/1/1995  city of london  ...          7.0          NaN\n",
              "2       3/1/1995  city of london  ...         14.0          NaN\n",
              "3       4/1/1995  city of london  ...          7.0          NaN\n",
              "4       5/1/1995  city of london  ...         10.0          NaN\n",
              "...          ...             ...  ...          ...          ...\n",
              "13330  11/1/2001         england  ...     109149.0          NaN\n",
              "13331  12/1/2001         england  ...      93329.0          NaN\n",
              "13332   1/1/2002         england  ...      71678.0          NaN\n",
              "13333   2/1/2002         england  ...      77131.0          NaN\n",
              "13334   3/1/2002         england  ...     102828.0          NaN\n",
              "\n",
              "[2209 rows x 6 columns]"
            ]
          },
          "metadata": {
            "tags": []
          },
          "execution_count": 91
        }
      ]
    },
    {
      "cell_type": "code",
      "metadata": {
        "colab": {
          "base_uri": "https://localhost:8080/"
        },
        "id": "k03nrso04Efe",
        "outputId": "d4cb1404-e93c-4fb4-f526-8013371231f4"
      },
      "source": [
        "df2[df2.average_price<100000].area.value_counts()"
      ],
      "execution_count": 92,
      "outputs": [
        {
          "output_type": "execute_result",
          "data": {
            "text/plain": [
              "north east              112\n",
              "north west              111\n",
              "yorks and the humber    110\n",
              "east midlands            96\n",
              "west midlands            94\n",
              "england                  87\n",
              "barking and dagenham     85\n",
              "south west               78\n",
              "east of england          76\n",
              "newham                   72\n",
              "bexley                   64\n",
              "waltham forest           64\n",
              "lewisham                 62\n",
              "havering                 60\n",
              "south east               59\n",
              "greenwich                59\n",
              "croydon                  57\n",
              "sutton                   54\n",
              "enfield                  54\n",
              "hackney                  53\n",
              "redbridge                52\n",
              "southwark                48\n",
              "tower hamlets            47\n",
              "outer london             46\n",
              "hillingdon               44\n",
              "hounslow                 41\n",
              "lambeth                  41\n",
              "brent                    40\n",
              "london                   39\n",
              "merton                   35\n",
              "bromley                  33\n",
              "haringey                 33\n",
              "inner london             31\n",
              "ealing                   31\n",
              "harrow                   30\n",
              "kingston upon thames     30\n",
              "wandsworth               26\n",
              "barnet                   25\n",
              "islington                19\n",
              "city of london           11\n",
              "Name: area, dtype: int64"
            ]
          },
          "metadata": {
            "tags": []
          },
          "execution_count": 92
        }
      ]
    },
    {
      "cell_type": "code",
      "metadata": {
        "id": "61RiK1Nk4VUN"
      },
      "source": [
        ""
      ],
      "execution_count": null,
      "outputs": []
    }
  ]
}